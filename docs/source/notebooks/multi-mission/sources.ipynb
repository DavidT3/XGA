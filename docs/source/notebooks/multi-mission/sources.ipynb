{
 "cells": [
  {
   "cell_type": "markdown",
   "metadata": {},
   "source": [
    "# Sources"
   ]
  },
  {
   "cell_type": "markdown",
   "metadata": {},
   "source": [
    "In this tutorial XGA's interaction with different X-ray telescopes' data is demonstrated. Here we focus on dealing with multi-mission data, and assume you already know how to declare a source, generate products, and analyse products. Please consult the previous tutorials if you are unfamiliar. "
   ]
  },
  {
   "cell_type": "markdown",
   "metadata": {},
   "source": [
    "## Assigning Observations to Sources"
   ]
  },
  {
   "cell_type": "markdown",
   "metadata": {},
   "source": [
    "To compensate for different X-ray telescope's FOVs, XGA allows you to control the radius in which to search for observations through the 'search_distance' argument when declaring a source. In the example below, we search for observations within 3 degrees of the sources' RA and DEC for eROSITA, and 30 arcmins for XMM. "
   ]
  },
  {
   "cell_type": "code",
   "execution_count": null,
   "metadata": {},
   "outputs": [],
   "source": [
    "# Firstly, lets declare a source to demonstrate with\n",
    "from astropy.units import Quantity\n",
    "from xga.sources import GalaxyCluster"
   ]
  },
  {
   "cell_type": "code",
   "execution_count": null,
   "metadata": {},
   "outputs": [],
   "source": [
    "# search_distance is controlling which observations from each telescope\n",
    "# get assigned to this source\n",
    "src = GalaxyCluster(187.70527, 12.39243, 0.00377, \n",
    "                    name='Virgo', r500=Quantity(500, 'kpc'),\n",
    "                    search_distance={'erosita': Quantity(3, 'deg'), \n",
    "                    'xmm': Quantity(30, 'arcmin')}\n",
    "                    )"
   ]
  },
  {
   "cell_type": "markdown",
   "metadata": {},
   "source": [
    "## Specifiying Which Telescopes to Use"
   ]
  },
  {
   "cell_type": "markdown",
   "metadata": {},
   "source": [
    "Only using data from certain telescopes is controlled upon source declaration through the 'telescope' argument. This source will now only consider observations from said telescope when going on to generate products and conduct analysis."
   ]
  },
  {
   "cell_type": "code",
   "execution_count": null,
   "metadata": {},
   "outputs": [],
   "source": [
    "# Here we only use eROSITA data through the 'telescope' argument\n",
    "src = GalaxyCluster(187.70527, 12.39243, 0.00377, \n",
    "                    name='Virgo', r500=Quantity(500, 'kpc'),\n",
    "                    telescope='erosita'\n",
    "                    )"
   ]
  },
  {
   "cell_type": "markdown",
   "metadata": {},
   "source": [
    "## Accessing Telescope Information From a Source"
   ]
  },
  {
   "cell_type": "markdown",
   "metadata": {},
   "source": [
    "Find out which telescopes have relevant data to your source through the 'telescope' attribute."
   ]
  },
  {
   "cell_type": "code",
   "execution_count": null,
   "metadata": {},
   "outputs": [],
   "source": [
    "src.telescopes"
   ]
  },
  {
   "cell_type": "markdown",
   "metadata": {},
   "source": [
    "The following attributes are properties of sources that are all dictionaries with telescope top level keys.\n",
    "* obs_ids\n",
    "* instruments\n",
    "* blacklisted\n",
    "* detected\n",
    "* matched_regions"
   ]
  },
  {
   "cell_type": "code",
   "execution_count": null,
   "metadata": {},
   "outputs": [],
   "source": [
    "src.obs_ids"
   ]
  },
  {
   "cell_type": "markdown",
   "metadata": {},
   "source": [
    "Therefore to access telesopce specific values, we must index by the telescope name.\n",
    "For example to see which eROSITA observations are associated with a source, we can do:"
   ]
  },
  {
   "cell_type": "code",
   "execution_count": null,
   "metadata": {},
   "outputs": [],
   "source": [
    "src.obs_ids['erosita']"
   ]
  }
 ],
 "metadata": {
  "kernelspec": {
   "display_name": "Python 3.9.13 ('base')",
   "language": "python",
   "name": "python3"
  },
  "language_info": {
   "codemirror_mode": {
    "name": "ipython",
    "version": 3
   },
   "file_extension": ".py",
   "mimetype": "text/x-python",
   "name": "python",
   "nbconvert_exporter": "python",
   "pygments_lexer": "ipython3",
   "version": "3.9.13"
  },
  "orig_nbformat": 4,
  "vscode": {
   "interpreter": {
    "hash": "eda4c904454499d28d11a238fc843e599c485f79e5beab49a4e5154c51d42694"
   }
  }
 },
 "nbformat": 4,
 "nbformat_minor": 2
}
