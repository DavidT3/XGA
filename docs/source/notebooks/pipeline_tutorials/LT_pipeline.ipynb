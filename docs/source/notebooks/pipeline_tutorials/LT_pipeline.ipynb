{
 "cells": [
  {
   "cell_type": "markdown",
   "id": "9a4be0e8",
   "metadata": {},
   "source": [
    "# The XGA L$_{\\rm{X}}$-T$_{\\rm{X}}$-radius measurement pipeline for Galaxy Clusters"
   ]
  },
  {
   "cell_type": "markdown",
   "id": "f8c7abe0",
   "metadata": {},
   "source": [
    "YEAaaaaaah"
   ]
  },
  {
   "cell_type": "markdown",
   "id": "0f582be2",
   "metadata": {},
   "source": []
  }
 ],
 "metadata": {
  "kernelspec": {
   "display_name": "Python 3 (ipykernel)",
   "language": "python",
   "name": "python3"
  },
  "language_info": {
   "codemirror_mode": {
    "name": "ipython",
    "version": 3
   },
   "file_extension": ".py",
   "mimetype": "text/x-python",
   "name": "python",
   "nbconvert_exporter": "python",
   "pygments_lexer": "ipython3",
   "version": "3.8.12"
  }
 },
 "nbformat": 4,
 "nbformat_minor": 5
}
