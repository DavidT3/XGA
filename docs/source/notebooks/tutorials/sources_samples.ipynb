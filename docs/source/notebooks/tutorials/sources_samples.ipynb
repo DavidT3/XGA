{
 "cells": [
  {
   "cell_type": "markdown",
   "metadata": {},
   "source": [
    "# Introducing Sources and Samples"
   ]
  },
  {
   "cell_type": "markdown",
   "metadata": {},
   "source": [
    "In this tutorial, I will explain the basic concepts around which XGA is designed, and why its been set up this way. There won't be much detail on how to use the module for any kind of analysis, but by the end you should have an understanding of how to get started defining sources, then in the next tutorials we can actually start to analyse them."
   ]
  },
  {
   "cell_type": "code",
   "execution_count": 1,
   "metadata": {},
   "outputs": [
    {
     "name": "stderr",
     "output_type": "stream",
     "text": [
      "/mnt/lustre/projects/astro/general/jp735/XGA_dev/XGA/xga/utils.py:39: DeprecationWarning: The XGA 'find_all_wcs' function should be imported from imagetools.misc, in the future it will be removed from utils.\n",
      "  warn(message, DeprecationWarning)\n",
      "/its/home/jp735/.conda/envs/xga_dev/lib/python3.8/site-packages/regions/_geometry/__init__.py:8: DeprecationWarning: `np.bool` is a deprecated alias for the builtin `bool`. To silence this warning, use `bool` by itself. Doing this will not modify any behavior and is safe. If you specifically wanted the numpy scalar type, use `np.bool_` here.\n",
      "Deprecated in NumPy 1.20; for more details and guidance: https://numpy.org/devdocs/release/1.20.0-notes.html#deprecations\n",
      "  from .polygonal_overlap import *\n"
     ]
    }
   ],
   "source": [
    "from astropy.units import Quantity\n",
    "import numpy as np\n",
    "import pandas as pd\n",
    "\n",
    "# Here we import various types of source class from XGA\n",
    "from xga.sources import BaseSource, NullSource, ExtendedSource, PointSource, GalaxyCluster\n",
    "# And here we import different of sample class\n",
    "from xga.samples.extended import ClusterSample"
   ]
  },
  {
   "cell_type": "markdown",
   "metadata": {},
   "source": [
    "## What are sources?"
   ]
  },
  {
   "cell_type": "markdown",
   "metadata": {},
   "source": [
    "XGA revolves around 'source' objects, which are representative of X-ray sources in real life. These are at the heart of any analysis performed with XGA, and just as there are different types of objects that emit X-rays, there are different types of source object built into XGA. We make distinctions between the different types of source due to the different information they can require for their analysis (clusters need overdensity radii for instance, whereas that isn't a useful concept for an AGN). Different source classes also have some different procedures and methods built into them, as we often wish to measure different things for different types of source.\n",
    "\n",
    "At their most basic, all that is required to define a source is a position on the sky. The first time XGA is run on a new system, it makes an 'observation census' of the data that you have pointed it to, and finds what observations are available and what their pointing coordinates are; when a new source is defined XGA searches through the census to check whether there are data available for the given coordinates, and if there are relevant observations then they are 'associated' with the source object. An observation will be associated with a source if the aimpoint of the observation is within a certain radius of the source coordinates (by default this radius is 30 and 60 arcmin for XMM and eROSITA respectively, however this may be adjusted by the user), though some source classes support further cleaning steps to remove observations that don't cover the entire object.\n",
    "\n",
    "This approach means that the user doesn't have to directly deal with data if they don't want to, XGA will fetch all available data by itself. When it comes to actually analysing and measuring quantities from the source, all the data will be used, not just single observations.\n",
    "\n",
    "As we ask you to supply region files to XGA in the configuration file, the module can be aware of where other detected sources are in the data its chosen, that allows it to define any 'interloper' sources that have to be excluded from spectrum generation and photometric analysis.\n"
   ]
  },
  {
   "cell_type": "markdown",
   "metadata": {},
   "source": [
    "## What types of source are there?"
   ]
  },
  {
   "cell_type": "markdown",
   "metadata": {},
   "source": [
    "* **BaseSource** - The superclass for all the other source classes, and the simplest of them all, there are very few circumstances where this class should be initialised by users. BaseSource only needs an RA and Dec to be initialised, and if a name is not supplied by the user then one will be generated from those coordinates.\n",
    "\n",
    "\n",
    "* **NullSource** - This class of source is an exception to XGA's design philosophy that an XGA source represents a real X-ray emitting object. By default NullSource associated every available ObsID with itself (though you may specify which ObsIDs to associate with it), and as such shouldn't be used for astrophysical analysis. This class of source should only be used for bulk generation of products such as images and exposure maps.\n",
    "\n",
    "\n",
    "* **ExtendedSource** - This is a general class for extended X-ray sources, it is also the superclass of the GalaxyCluster class. XGA will attempt to find a matching extended source from the supplied region files, and if it does then that region will be used for any analysis. The user may also supply a custom circular region in which to analyse the object. Unless it is told not to, XGA will also attempt to find the X-ray peak of this extended object.\n",
    "\n",
    "\n",
    "* **GalaxyCluster** - This class is specifically for the analysis of Galaxy Clusters, and is a subclass of ExtendedSource. Defining an instance of this class **requires** a redshift to be passed, as well as **at least** one overdensity radius ( R$_{200}$, R$_{500}$, and R$_{2500}$ are supported). Also supports passing weak lensing mass and richness values, for use in multi-wavelength analyses. Point sources close to the centre of the cluster will not be removed, as they could be a misidentified cool core, please see the [_source_type_match](../../xga.sources.rst#xga.sources.extended.GalaxyCluster) method of the GalaxyCluster class for more information.\n",
    "\n",
    "\n",
    "* **PointSource** - Similar to the ExtendedSource class in that this is a superclass for more specific point source classes. There are no methods in this class to produce radial plots for instance, as for point-like sources the ideal of a radial profile has very little meaning. When a PointSouce is declared, an attempt will be made to match to a point source in region files, if they are supplied.\n",
    "\n",
    "If you would like a more specific class implemented for the type of object you're working on, please get in contact with me and I will see what I can do."
   ]
  },
  {
   "cell_type": "markdown",
   "metadata": {},
   "source": [
    "## What are samples?"
   ]
  },
  {
   "cell_type": "markdown",
   "metadata": {},
   "source": [
    "An XGA sample is a group of the same type of object that we wish to analyse as a population; for instance you might want to analyse multiple Galaxy Clusters and derive a scaling relation from them.\n",
    "\n",
    "There is a secondary benefit to using a sample object rather than multiple Source objects, a sample can be passed into any function that will accept a source, and the function will perform its job on every source in it. This not only makes writing your code easier and cleaner, but can also be more efficient when running telescope-specific software, as XGA will run any such jobs in parallel, rather than you having to run them sequentially in a loop for instance.\n",
    "\n",
    "When a sample is declared (other than the BaseSample class), it will make sure that images and exposure maps for all associated observations are generated for all constinuent sources exist, and if they don't then they will be generated."
   ]
  },
  {
   "cell_type": "markdown",
   "metadata": {},
   "source": [
    "## What types of sample are there?"
   ]
  },
  {
   "cell_type": "markdown",
   "metadata": {},
   "source": [
    "These mostly mirror the types of source that are present in XGA. Specific sample types can have properties or methods unique to that type of astrophysical object.\n",
    "\n",
    "* **BaseSample** - The superclass for all the other sample classes, there are very few circumstances where this class should be initialised by users. All a BaseSample requires to be instantiated are two numpy arrays, containing RA and Dec values. Arrays of names and redshifts may also be supplied (though names supplied to sample definitions **must be unique**).\n",
    "\n",
    "\n",
    "* **PointSample** - For a population of some generic type of point source. Again only RA and Dec values have to be supplied, though redshift information can be provided if available. As this is a general point source class, no methods to generate scaling relations have been provided.\n",
    "\n",
    "\n",
    "* **ClusterSample** - For a population of Galaxy Clusters. Just as with the GalaxyCluster source class, here we **require** that redshift and overdensity radius information be provided on declaration. Many convenient features have been added to this sample class, for instance you can retrieve temperatures of all clusters in the sample (if measured) using a ClusterSample method. You can also easily generate common scaling relations by calling methods of the ClusterSample class, using several different fitting methods."
   ]
  },
  {
   "cell_type": "markdown",
   "metadata": {},
   "source": [
    "## Defining your first source"
   ]
  },
  {
   "cell_type": "markdown",
   "metadata": {},
   "source": [
    "Here I demonstrate just how simple it is to define a PointSource object, all I've done is to supply the Right Ascension and Declination of Castor, a famous sextuple star system that emits in X-ray. **All coordinates used with XGA must be passed as decimal degrees, sexagesimal coordinates are not supported by this module.**\n",
    "\n",
    "PointSource also accepts various other keyword arguments that you may wish to change from defaults, please see [this documentation](../../xga.sources.rst#xga.sources.general.PointSource) for a full list. A particularly useful keyword argument is cosmology, which allows you to pass an Astropy cosmology object, which will then be used in all aspects of analysis; the default cosmology is currently a flat LambdaCDM concordance module - this ability to set the cosmology is present in all source and sample objects, and is used throughout any analysis done with that source/sample.\n",
    "\n",
    "To compensate for different X-ray telescope's FOVs, XGA allows you to control the radius in which to search for observations through the 'search_distance' argument when declaring a source. In the example below, we search for observations within 3 degrees of the sources' RA and DEC for eROSITA, and 30 arcmins for XMM."
   ]
  },
  {
   "cell_type": "code",
   "execution_count": 2,
   "metadata": {
    "scrolled": false
   },
   "outputs": [
    {
     "name": "stderr",
     "output_type": "stream",
     "text": [
      "/its/home/jp735/.conda/envs/xga_dev/lib/python3.8/site-packages/ipykernel/ipkernel.py:283: DeprecationWarning: `should_run_async` will not call `transform_cell` automatically in the future. Please pass the result to `transformed_cell` argument and any exception that happen during thetransform in `preprocessing_exc_tuple` in IPython 7.17 and above.\n",
      "  and should_run_async(code)\n",
      "/its/home/jp735/.conda/envs/xga_dev/lib/python3.8/site-packages/regions/core/compound.py:93: DeprecationWarning: `np.int` is a deprecated alias for the builtin `int`. To silence this warning, use `int` by itself. Doing this will not modify any behavior and is safe. When replacing `np.int`, you may wish to use e.g. `np.int64` or `np.int32` to specify the precision. If you wish to review your current use, check the release note link for additional information.\n",
      "Deprecated in NumPy 1.20; for more details and guidance: https://numpy.org/devdocs/release/1.20.0-notes.html#deprecations\n",
      "  data = self.operator(*np.array(padded_data, dtype=np.int))\n",
      "/its/home/jp735/.conda/envs/xga_dev/lib/python3.8/site-packages/regions/core/compound.py:93: DeprecationWarning: `np.int` is a deprecated alias for the builtin `int`. To silence this warning, use `int` by itself. Doing this will not modify any behavior and is safe. When replacing `np.int`, you may wish to use e.g. `np.int64` or `np.int32` to specify the precision. If you wish to review your current use, check the release note link for additional information.\n",
      "Deprecated in NumPy 1.20; for more details and guidance: https://numpy.org/devdocs/release/1.20.0-notes.html#deprecations\n",
      "  data = self.operator(*np.array(padded_data, dtype=np.int))\n",
      "/its/home/jp735/.conda/envs/xga_dev/lib/python3.8/site-packages/regions/core/compound.py:93: DeprecationWarning: `np.int` is a deprecated alias for the builtin `int`. To silence this warning, use `int` by itself. Doing this will not modify any behavior and is safe. When replacing `np.int`, you may wish to use e.g. `np.int64` or `np.int32` to specify the precision. If you wish to review your current use, check the release note link for additional information.\n",
      "Deprecated in NumPy 1.20; for more details and guidance: https://numpy.org/devdocs/release/1.20.0-notes.html#deprecations\n",
      "  data = self.operator(*np.array(padded_data, dtype=np.int))\n",
      "/its/home/jp735/.conda/envs/xga_dev/lib/python3.8/site-packages/regions/core/compound.py:93: DeprecationWarning: `np.int` is a deprecated alias for the builtin `int`. To silence this warning, use `int` by itself. Doing this will not modify any behavior and is safe. When replacing `np.int`, you may wish to use e.g. `np.int64` or `np.int32` to specify the precision. If you wish to review your current use, check the release note link for additional information.\n",
      "Deprecated in NumPy 1.20; for more details and guidance: https://numpy.org/devdocs/release/1.20.0-notes.html#deprecations\n",
      "  data = self.operator(*np.array(padded_data, dtype=np.int))\n",
      "/its/home/jp735/.conda/envs/xga_dev/lib/python3.8/site-packages/regions/core/compound.py:93: DeprecationWarning: `np.int` is a deprecated alias for the builtin `int`. To silence this warning, use `int` by itself. Doing this will not modify any behavior and is safe. When replacing `np.int`, you may wish to use e.g. `np.int64` or `np.int32` to specify the precision. If you wish to review your current use, check the release note link for additional information.\n",
      "Deprecated in NumPy 1.20; for more details and guidance: https://numpy.org/devdocs/release/1.20.0-notes.html#deprecations\n",
      "  data = self.operator(*np.array(padded_data, dtype=np.int))\n",
      "/its/home/jp735/.conda/envs/xga_dev/lib/python3.8/site-packages/regions/core/compound.py:93: DeprecationWarning: `np.int` is a deprecated alias for the builtin `int`. To silence this warning, use `int` by itself. Doing this will not modify any behavior and is safe. When replacing `np.int`, you may wish to use e.g. `np.int64` or `np.int32` to specify the precision. If you wish to review your current use, check the release note link for additional information.\n",
      "Deprecated in NumPy 1.20; for more details and guidance: https://numpy.org/devdocs/release/1.20.0-notes.html#deprecations\n",
      "  data = self.operator(*np.array(padded_data, dtype=np.int))\n",
      "/its/home/jp735/.conda/envs/xga_dev/lib/python3.8/site-packages/regions/core/compound.py:93: DeprecationWarning: `np.int` is a deprecated alias for the builtin `int`. To silence this warning, use `int` by itself. Doing this will not modify any behavior and is safe. When replacing `np.int`, you may wish to use e.g. `np.int64` or `np.int32` to specify the precision. If you wish to review your current use, check the release note link for additional information.\n",
      "Deprecated in NumPy 1.20; for more details and guidance: https://numpy.org/devdocs/release/1.20.0-notes.html#deprecations\n",
      "  data = self.operator(*np.array(padded_data, dtype=np.int))\n"
     ]
    }
   ],
   "source": [
    "demo_src = PointSource(113.65833, 31.87083, name='Castor', \n",
    "                       search_distance={'erosita': Quantity(3, 'deg'), \n",
    "                                        'xmm': Quantity(30, 'arcmin')})"
   ]
  },
  {
   "cell_type": "markdown",
   "metadata": {},
   "source": [
    "We can see from the progress bar above that XGA has detected that no appropriate XMM calibration files were available for the data associated with Castor, and so it used its SAS interface to automatically create the necessary files. It will also have automatically generated combined images and exposure maps, using all available data."
   ]
  },
  {
   "cell_type": "markdown",
   "metadata": {},
   "source": [
    "We can now use the info() method to see a summary of the information we have about this particular source. You will notice that XGA has used the input coordinates to find an nH value (using a [HEASoft tool](https://heasarc.gsfc.nasa.gov/lheasoft/ftools/fhelp/nh.html)). You may also notice that a custom region radius of 0.01 degrees has been used to calculate a SNR value, this is the default region radius for the PointSource class, and may be changed using a keyword argument when the PointSource is defined."
   ]
  },
  {
   "cell_type": "code",
   "execution_count": 3,
   "metadata": {},
   "outputs": [
    {
     "name": "stdout",
     "output_type": "stream",
     "text": [
      "\n",
      "-----------------------------------------------------\n",
      "Source Name - Castor\n",
      "User Coordinates - (113.65833, 31.87083) degrees\n",
      "nH - 0.043 1e+22 / cm2\n",
      "Point Region Radius - 0.01 deg\n",
      "\n",
      "-- XMM --\n",
      "ObsIDs - 3\n",
      "PN Observations - 3\n",
      "MOS1 Observations - 3\n",
      "MOS2 Observations - 3\n",
      "With initial detection - 3\n",
      "Spectra associated - 0\n",
      "\n",
      "-- eROSITA --\n",
      "ObsIDs - 4\n",
      "TM1 Observations - 4\n",
      "TM2 Observations - 4\n",
      "TM3 Observations - 4\n",
      "TM4 Observations - 4\n",
      "TM5 Observations - 4\n",
      "TM6 Observations - 4\n",
      "TM7 Observations - 4\n",
      "With initial detection - 1\n",
      "Spectra associated - 0\n",
      "-----------------------------------------------------\n",
      "\n"
     ]
    },
    {
     "name": "stderr",
     "output_type": "stream",
     "text": [
      "/its/home/jp735/.conda/envs/xga_dev/lib/python3.8/site-packages/ipykernel/ipkernel.py:283: DeprecationWarning: `should_run_async` will not call `transform_cell` automatically in the future. Please pass the result to `transformed_cell` argument and any exception that happen during thetransform in `preprocessing_exc_tuple` in IPython 7.17 and above.\n",
      "  and should_run_async(code)\n"
     ]
    }
   ],
   "source": [
    "demo_src.info()"
   ]
  },
  {
   "cell_type": "markdown",
   "metadata": {},
   "source": [
    "## Specifiying Which Telescopes to Use\n",
    "Only using data from certain telescopes is controlled upon source declaration through the 'telescope' argument. This source will now only consider observations from said telescope when going on to generate products and conduct analysis."
   ]
  },
  {
   "cell_type": "code",
   "execution_count": 6,
   "metadata": {},
   "outputs": [
    {
     "name": "stderr",
     "output_type": "stream",
     "text": [
      "/its/home/jp735/.conda/envs/xga_dev/lib/python3.8/site-packages/regions/core/compound.py:93: DeprecationWarning: `np.int` is a deprecated alias for the builtin `int`. To silence this warning, use `int` by itself. Doing this will not modify any behavior and is safe. When replacing `np.int`, you may wish to use e.g. `np.int64` or `np.int32` to specify the precision. If you wish to review your current use, check the release note link for additional information.\n",
      "Deprecated in NumPy 1.20; for more details and guidance: https://numpy.org/devdocs/release/1.20.0-notes.html#deprecations\n",
      "  data = self.operator(*np.array(padded_data, dtype=np.int))\n",
      "/its/home/jp735/.conda/envs/xga_dev/lib/python3.8/site-packages/regions/core/compound.py:93: DeprecationWarning: `np.int` is a deprecated alias for the builtin `int`. To silence this warning, use `int` by itself. Doing this will not modify any behavior and is safe. When replacing `np.int`, you may wish to use e.g. `np.int64` or `np.int32` to specify the precision. If you wish to review your current use, check the release note link for additional information.\n",
      "Deprecated in NumPy 1.20; for more details and guidance: https://numpy.org/devdocs/release/1.20.0-notes.html#deprecations\n",
      "  data = self.operator(*np.array(padded_data, dtype=np.int))\n",
      "/its/home/jp735/.conda/envs/xga_dev/lib/python3.8/site-packages/regions/core/compound.py:93: DeprecationWarning: `np.int` is a deprecated alias for the builtin `int`. To silence this warning, use `int` by itself. Doing this will not modify any behavior and is safe. When replacing `np.int`, you may wish to use e.g. `np.int64` or `np.int32` to specify the precision. If you wish to review your current use, check the release note link for additional information.\n",
      "Deprecated in NumPy 1.20; for more details and guidance: https://numpy.org/devdocs/release/1.20.0-notes.html#deprecations\n",
      "  data = self.operator(*np.array(padded_data, dtype=np.int))\n",
      "/its/home/jp735/.conda/envs/xga_dev/lib/python3.8/site-packages/regions/core/compound.py:93: DeprecationWarning: `np.int` is a deprecated alias for the builtin `int`. To silence this warning, use `int` by itself. Doing this will not modify any behavior and is safe. When replacing `np.int`, you may wish to use e.g. `np.int64` or `np.int32` to specify the precision. If you wish to review your current use, check the release note link for additional information.\n",
      "Deprecated in NumPy 1.20; for more details and guidance: https://numpy.org/devdocs/release/1.20.0-notes.html#deprecations\n",
      "  data = self.operator(*np.array(padded_data, dtype=np.int))\n"
     ]
    }
   ],
   "source": [
    "# Here we only use eROSITA data through the 'telescope' argument\n",
    "erosita_src =  PointSource(113.65833, 31.87083, name='Castor', \n",
    "                           telescope='erosita',\n",
    "                           search_distance={'erosita': Quantity(3, 'deg')})"
   ]
  },
  {
   "cell_type": "markdown",
   "metadata": {},
   "source": [
    "Now when we call the info() method, we can see only eROSITA observations are associated with this source."
   ]
  },
  {
   "cell_type": "code",
   "execution_count": 7,
   "metadata": {},
   "outputs": [
    {
     "name": "stdout",
     "output_type": "stream",
     "text": [
      "\n",
      "-----------------------------------------------------\n",
      "Source Name - Castor\n",
      "User Coordinates - (113.65833, 31.87083) degrees\n",
      "nH - 0.043 1e+22 / cm2\n",
      "Point Region Radius - 0.01 deg\n",
      "\n",
      "-- eROSITA --\n",
      "ObsIDs - 4\n",
      "TM1 Observations - 4\n",
      "TM2 Observations - 4\n",
      "TM3 Observations - 4\n",
      "TM4 Observations - 4\n",
      "TM5 Observations - 4\n",
      "TM6 Observations - 4\n",
      "TM7 Observations - 4\n",
      "With initial detection - 1\n",
      "Spectra associated - 0\n",
      "-----------------------------------------------------\n",
      "\n"
     ]
    },
    {
     "name": "stderr",
     "output_type": "stream",
     "text": [
      "/its/home/jp735/.conda/envs/xga_dev/lib/python3.8/site-packages/ipykernel/ipkernel.py:283: DeprecationWarning: `should_run_async` will not call `transform_cell` automatically in the future. Please pass the result to `transformed_cell` argument and any exception that happen during thetransform in `preprocessing_exc_tuple` in IPython 7.17 and above.\n",
      "  and should_run_async(code)\n"
     ]
    }
   ],
   "source": [
    "erosita_src.info()"
   ]
  },
  {
   "cell_type": "markdown",
   "metadata": {},
   "source": [
    "A lot of information is stored in all source objects, and I would advise you look at the [BaseSource API documentation](../../xga.sources.html#xga.sources.base.BaseSource) (or use the dir() command on any source object) to explore what it can tell you. \n",
    "\n",
    "Here I demonstrate how easy it is to retrieve simple information such as the hydrogen column density at the source coordinates, which telescopes are associated with the source, which ObsIDs are associated with the source, and which ObsIDs are considered 'on-axis' observations. The `instruments` property provides a dictionary of top level keys specifying the telescope, then each value being dictionary with the associated ObsIDs as keys, and the instruments associated with them as values; this is necessary because we cannot take for granted that all observations have data from all instruments. We can see that other properties such as obs_ids are also dictionaries with telescope keys. "
   ]
  },
  {
   "cell_type": "code",
   "execution_count": 9,
   "metadata": {},
   "outputs": [
    {
     "name": "stdout",
     "output_type": "stream",
     "text": [
      "0.043 1e+22 / cm2\n",
      "['xmm', 'erosita']\n",
      "{'xmm': ['0123710101', '0112880801', '0123710201'], 'erosita': ['111057', '115057', '115060', '111060']}\n",
      "['111057', '115057', '115060', '111060']\n",
      "{'xmm': {'0123710101': ['pn', 'mos1', 'mos2'], '0112880801': ['pn', 'mos1', 'mos2'], '0123710201': ['pn', 'mos1', 'mos2']}, 'erosita': {'111057': ['tm1', 'tm2', 'tm3', 'tm4', 'tm5', 'tm6', 'tm7'], '115057': ['tm1', 'tm2', 'tm3', 'tm4', 'tm5', 'tm6', 'tm7'], '115060': ['tm1', 'tm2', 'tm3', 'tm4', 'tm5', 'tm6', 'tm7'], '111060': ['tm1', 'tm2', 'tm3', 'tm4', 'tm5', 'tm6', 'tm7']}}\n"
     ]
    }
   ],
   "source": [
    "# This property returns an astropy quantity with the hydrogen column density\n",
    "print(demo_src.nH)"
   ]
  },
  {
   "cell_type": "code",
   "execution_count": 10,
   "metadata": {},
   "outputs": [
    {
     "name": "stdout",
     "output_type": "stream",
     "text": [
      "['xmm', 'erosita']\n"
     ]
    }
   ],
   "source": [
    "# This propery returns a list of all the telescopes the source has observations from\n",
    "print(demo_src.telescopes)"
   ]
  },
  {
   "cell_type": "code",
   "execution_count": 11,
   "metadata": {},
   "outputs": [
    {
     "name": "stdout",
     "output_type": "stream",
     "text": [
      "{'xmm': ['0123710101', '0112880801', '0123710201'], 'erosita': ['111057', '115057', '115060', '111060']}\n"
     ]
    }
   ],
   "source": [
    "# This property is a dictionary with telescope top level keys, \n",
    "# with values of a list of ObsIDs that have been associated with the source\n",
    "print(demo_src.obs_ids)"
   ]
  },
  {
   "cell_type": "code",
   "execution_count": 12,
   "metadata": {},
   "outputs": [
    {
     "name": "stdout",
     "output_type": "stream",
     "text": [
      "['111057', '115057', '115060', '111060']\n"
     ]
    }
   ],
   "source": [
    "# We can access telescope-specific obs_ids by indexing the dictionary\n",
    "print(demo_src.obs_ids['erosita'])"
   ]
  },
  {
   "cell_type": "markdown",
   "metadata": {},
   "source": [
    "Next we will show all other attributes that have telescope top-level keys and can be indexed in the same way."
   ]
  },
  {
   "cell_type": "code",
   "execution_count": 14,
   "metadata": {},
   "outputs": [
    {
     "name": "stdout",
     "output_type": "stream",
     "text": [
      "{'xmm': {'0123710101': ['pn', 'mos1', 'mos2'], '0112880801': ['pn', 'mos1', 'mos2'], '0123710201': ['pn', 'mos1', 'mos2']}, 'erosita': {'111057': ['tm1', 'tm2', 'tm3', 'tm4', 'tm5', 'tm6', 'tm7'], '115057': ['tm1', 'tm2', 'tm3', 'tm4', 'tm5', 'tm6', 'tm7'], '115060': ['tm1', 'tm2', 'tm3', 'tm4', 'tm5', 'tm6', 'tm7'], '111060': ['tm1', 'tm2', 'tm3', 'tm4', 'tm5', 'tm6', 'tm7']}}\n"
     ]
    }
   ],
   "source": [
    "# Under the telescope top level, this property returns dictionaries of ObsIDs \n",
    "# and which of their instruments are valid\n",
    "print(demo_src.instruments)"
   ]
  },
  {
   "cell_type": "code",
   "execution_count": 15,
   "metadata": {},
   "outputs": [
    {
     "name": "stdout",
     "output_type": "stream",
     "text": [
      "{'xmm': {'0123710101': True, '0112880801': True, '0123710201': True}, 'erosita': {'111057': False, '115057': True, '115060': False, '111060': False}}\n"
     ]
    }
   ],
   "source": [
    "# Dictionary with ObsID keys, with Boolean values. \n",
    "# If True, this means a region has been matched to the source in that observation \n",
    "print(demo_src.detected)"
   ]
  },
  {
   "cell_type": "code",
   "execution_count": 16,
   "metadata": {},
   "outputs": [
    {
     "name": "stdout",
     "output_type": "stream",
     "text": [
      "{'xmm': {'0123710101': <EllipseSkyRegion(<SkyCoord (ICRS): (ra, dec) in deg\n",
      "    (113.65583394, 31.86961755)>, width=0.007642174742893155 deg, height=0.007642174742893155 deg, angle=379.1649991426475 deg)>, '0112880801': <EllipseSkyRegion(<SkyCoord (ICRS): (ra, dec) in deg\n",
      "    (113.65597234, 31.86950418)>, width=0.007967119728309241 deg, height=0.007967119728309241 deg, angle=195.21971896612658 deg)>, '0123710201': <EllipseSkyRegion(<SkyCoord (ICRS): (ra, dec) in deg\n",
      "    (113.65503921, 31.86957275)>, width=0.007581492257558706 deg, height=0.007581492257558706 deg, angle=380.33562381145947 deg)>}, 'erosita': {'111057': None, '115057': <EllipseSkyRegion(<SkyCoord (FK5: equinox=J2000.000): (ra, dec) in deg\n",
      "    (113.65504466, 31.86862996)>, width=0.01669444613986545 deg, height=0.01669444613986545 deg, angle=3.0 deg)>, '115060': None, '111060': None}}\n"
     ]
    }
   ],
   "source": [
    "# Under the telescope top level, this property returns dictionaries with ObsID keys,\n",
    "# and region object values - these are regions that have been matched to the source\n",
    "print(demo_src.matched_regions)"
   ]
  },
  {
   "cell_type": "markdown",
   "metadata": {},
   "source": [
    "## Defining your first sample"
   ]
  },
  {
   "cell_type": "markdown",
   "metadata": {},
   "source": [
    "This is a simple demonstration of how you can define a sample of GalaxyClusters, with four clusters from the XCS-SDSS sample (Giles et al. (in prep)). \n",
    "\n",
    "First I create a Pandas dataframe, simply because its a convenient way to store the initial sample data (you don't have to use it), and because I often read in samples using Pandas. Then it is as simple as passing the different columns into the ClusterSample class. Note that the radii are supplied as Astropy quantities - I use quantities throughout XGA, most values that have a unit will be one."
   ]
  },
  {
   "cell_type": "code",
   "execution_count": 17,
   "metadata": {},
   "outputs": [
    {
     "data": {
      "text/html": [
       "<div>\n",
       "<style scoped>\n",
       "    .dataframe tbody tr th:only-of-type {\n",
       "        vertical-align: middle;\n",
       "    }\n",
       "\n",
       "    .dataframe tbody tr th {\n",
       "        vertical-align: top;\n",
       "    }\n",
       "\n",
       "    .dataframe thead th {\n",
       "        text-align: right;\n",
       "    }\n",
       "</style>\n",
       "<table border=\"1\" class=\"dataframe\">\n",
       "  <thead>\n",
       "    <tr style=\"text-align: right;\">\n",
       "      <th></th>\n",
       "      <th>name</th>\n",
       "      <th>ra</th>\n",
       "      <th>dec</th>\n",
       "      <th>z</th>\n",
       "      <th>r500</th>\n",
       "      <th>r200</th>\n",
       "      <th>richness</th>\n",
       "      <th>richness_err</th>\n",
       "    </tr>\n",
       "  </thead>\n",
       "  <tbody>\n",
       "    <tr>\n",
       "      <th>0</th>\n",
       "      <td>XCSSDSS-124</td>\n",
       "      <td>0.800578</td>\n",
       "      <td>-6.091818</td>\n",
       "      <td>0.251</td>\n",
       "      <td>1220.11</td>\n",
       "      <td>1777.06</td>\n",
       "      <td>109.55</td>\n",
       "      <td>4.49</td>\n",
       "    </tr>\n",
       "    <tr>\n",
       "      <th>1</th>\n",
       "      <td>XCSSDSS-2789</td>\n",
       "      <td>0.955540</td>\n",
       "      <td>2.068019</td>\n",
       "      <td>0.110</td>\n",
       "      <td>1039.14</td>\n",
       "      <td>1519.79</td>\n",
       "      <td>38.90</td>\n",
       "      <td>2.83</td>\n",
       "    </tr>\n",
       "    <tr>\n",
       "      <th>2</th>\n",
       "      <td>XCSSDSS-290</td>\n",
       "      <td>2.722639</td>\n",
       "      <td>29.161021</td>\n",
       "      <td>0.338</td>\n",
       "      <td>935.58</td>\n",
       "      <td>1359.37</td>\n",
       "      <td>105.10</td>\n",
       "      <td>5.99</td>\n",
       "    </tr>\n",
       "    <tr>\n",
       "      <th>3</th>\n",
       "      <td>XCSSDSS-134</td>\n",
       "      <td>4.908390</td>\n",
       "      <td>3.609818</td>\n",
       "      <td>0.273</td>\n",
       "      <td>1157.04</td>\n",
       "      <td>1684.15</td>\n",
       "      <td>108.60</td>\n",
       "      <td>4.79</td>\n",
       "    </tr>\n",
       "  </tbody>\n",
       "</table>\n",
       "</div>"
      ],
      "text/plain": [
       "           name        ra        dec      z     r500     r200  richness  \\\n",
       "0   XCSSDSS-124  0.800578  -6.091818  0.251  1220.11  1777.06    109.55   \n",
       "1  XCSSDSS-2789  0.955540   2.068019  0.110  1039.14  1519.79     38.90   \n",
       "2   XCSSDSS-290  2.722639  29.161021  0.338   935.58  1359.37    105.10   \n",
       "3   XCSSDSS-134  4.908390   3.609818  0.273  1157.04  1684.15    108.60   \n",
       "\n",
       "   richness_err  \n",
       "0          4.49  \n",
       "1          2.83  \n",
       "2          5.99  \n",
       "3          4.79  "
      ]
     },
     "execution_count": 17,
     "metadata": {},
     "output_type": "execute_result"
    }
   ],
   "source": [
    "column_names = ['name', 'ra', 'dec', 'z', 'r500', 'r200', 'richness', 'richness_err']\n",
    "cluster_data = np.array([['XCSSDSS-124', 0.80057775, -6.0918182, 0.251, 1220.11, 1777.06, 109.55, 4.49],\n",
    "                         ['XCSSDSS-2789', 0.95553986, 2.068019, 0.11, 1039.14, 1519.79, 38.90, 2.83],\n",
    "                         ['XCSSDSS-290', 2.7226392, 29.161021, 0.338, 935.58, 1359.37, 105.10, 5.99],\n",
    "                         ['XCSSDSS-134', 4.9083898, 3.6098177, 0.273, 1157.04, 1684.15, 108.60, 4.79]])\n",
    "\n",
    "sample_df = pd.DataFrame(data=cluster_data, columns=column_names)\n",
    "sample_df[['ra', 'dec', 'z', 'r500', 'r200', 'richness', 'richness_err']] = \\\n",
    "    sample_df[['ra', 'dec', 'z', 'r500', 'r200', 'richness', 'richness_err']].astype(float)\n",
    "\n",
    "sample_df"
   ]
  },
  {
   "cell_type": "markdown",
   "metadata": {},
   "source": [
    "Just as with the definition of the PointSource object, there are many keyword arguments that can be supplied here, it is recommended to examine the [documentation](../../xga.samples.rst#xga.samples.extended.ClusterSample) to see whether you need any of the other options. For example you may control which telescope's data you wish to use through the 'telescope' and 'search_distance' arguments, in the same way you can with Source objects. \n",
    "\n",
    "It is not necessary to supply two different overdensity radii (as I have done here), but can be very useful. The richness information I passed in is also not needed to define the sample. Remember that you **must** pass redshift information to define GalaxyCluster objects, and as such redshift information is required for ClusterSample objects as well.\n",
    "\n",
    "Note that this ClusterSample definition generates some images and exposure maps - those are combined images and exposure maps, and they have to exist for the individual GalaxyCluster objects to perform peak finding on the data. "
   ]
  },
  {
   "cell_type": "code",
   "execution_count": 18,
   "metadata": {},
   "outputs": [
    {
     "name": "stderr",
     "output_type": "stream",
     "text": [
      "/its/home/jp735/.conda/envs/xga_dev/lib/python3.8/site-packages/ipykernel/ipkernel.py:283: DeprecationWarning: `should_run_async` will not call `transform_cell` automatically in the future. Please pass the result to `transformed_cell` argument and any exception that happen during thetransform in `preprocessing_exc_tuple` in IPython 7.17 and above.\n",
      "  and should_run_async(code)\n",
      "Declaring BaseSource Sample: 100%|██████████| 4/4 [00:00<00:00, 110.75it/s]\n"
     ]
    },
    {
     "ename": "NoValidObservationsError",
     "evalue": "No sources have been declared, likely meaning that none of the sample have valid XMM/eROSITA data.",
     "output_type": "error",
     "traceback": [
      "\u001b[0;31m---------------------------------------------------------------------------\u001b[0m",
      "\u001b[0;31mNoValidObservationsError\u001b[0m                  Traceback (most recent call last)",
      "Cell \u001b[0;32mIn[18], line 1\u001b[0m\n\u001b[0;32m----> 1\u001b[0m demo_smp \u001b[38;5;241m=\u001b[39m \u001b[43mClusterSample\u001b[49m\u001b[43m(\u001b[49m\u001b[43msample_df\u001b[49m\u001b[43m[\u001b[49m\u001b[38;5;124;43m\"\u001b[39;49m\u001b[38;5;124;43mra\u001b[39;49m\u001b[38;5;124;43m\"\u001b[39;49m\u001b[43m]\u001b[49m\u001b[38;5;241;43m.\u001b[39;49m\u001b[43mvalues\u001b[49m\u001b[43m,\u001b[49m\u001b[43m \u001b[49m\u001b[43msample_df\u001b[49m\u001b[43m[\u001b[49m\u001b[38;5;124;43m\"\u001b[39;49m\u001b[38;5;124;43mdec\u001b[39;49m\u001b[38;5;124;43m\"\u001b[39;49m\u001b[43m]\u001b[49m\u001b[38;5;241;43m.\u001b[39;49m\u001b[43mvalues\u001b[49m\u001b[43m,\u001b[49m\u001b[43m \u001b[49m\u001b[43msample_df\u001b[49m\u001b[43m[\u001b[49m\u001b[38;5;124;43m\"\u001b[39;49m\u001b[38;5;124;43mz\u001b[39;49m\u001b[38;5;124;43m\"\u001b[39;49m\u001b[43m]\u001b[49m\u001b[38;5;241;43m.\u001b[39;49m\u001b[43mvalues\u001b[49m\u001b[43m,\u001b[49m\u001b[43m \u001b[49m\n\u001b[1;32m      2\u001b[0m \u001b[43m                         \u001b[49m\u001b[43msample_df\u001b[49m\u001b[43m[\u001b[49m\u001b[38;5;124;43m\"\u001b[39;49m\u001b[38;5;124;43mname\u001b[39;49m\u001b[38;5;124;43m\"\u001b[39;49m\u001b[43m]\u001b[49m\u001b[38;5;241;43m.\u001b[39;49m\u001b[43mvalues\u001b[49m\u001b[43m,\u001b[49m\u001b[43m \u001b[49m\u001b[43mr200\u001b[49m\u001b[38;5;241;43m=\u001b[39;49m\u001b[43mQuantity\u001b[49m\u001b[43m(\u001b[49m\u001b[43msample_df\u001b[49m\u001b[43m[\u001b[49m\u001b[38;5;124;43m\"\u001b[39;49m\u001b[38;5;124;43mr200\u001b[39;49m\u001b[38;5;124;43m\"\u001b[39;49m\u001b[43m]\u001b[49m\u001b[38;5;241;43m.\u001b[39;49m\u001b[43mvalues\u001b[49m\u001b[43m,\u001b[49m\u001b[43m \u001b[49m\u001b[38;5;124;43m\"\u001b[39;49m\u001b[38;5;124;43mkpc\u001b[39;49m\u001b[38;5;124;43m\"\u001b[39;49m\u001b[43m)\u001b[49m\u001b[43m,\u001b[49m\n\u001b[1;32m      3\u001b[0m \u001b[43m                         \u001b[49m\u001b[43mr500\u001b[49m\u001b[38;5;241;43m=\u001b[39;49m\u001b[43mQuantity\u001b[49m\u001b[43m(\u001b[49m\u001b[43msample_df\u001b[49m\u001b[43m[\u001b[49m\u001b[38;5;124;43m\"\u001b[39;49m\u001b[38;5;124;43mr500\u001b[39;49m\u001b[38;5;124;43m\"\u001b[39;49m\u001b[43m]\u001b[49m\u001b[38;5;241;43m.\u001b[39;49m\u001b[43mvalues\u001b[49m\u001b[43m,\u001b[49m\u001b[43m \u001b[49m\u001b[38;5;124;43m'\u001b[39;49m\u001b[38;5;124;43mkpc\u001b[39;49m\u001b[38;5;124;43m'\u001b[39;49m\u001b[43m)\u001b[49m\u001b[43m,\u001b[49m\u001b[43m \u001b[49m\u001b[43mrichness\u001b[49m\u001b[38;5;241;43m=\u001b[39;49m\u001b[43msample_df\u001b[49m\u001b[43m[\u001b[49m\u001b[38;5;124;43m'\u001b[39;49m\u001b[38;5;124;43mrichness\u001b[39;49m\u001b[38;5;124;43m'\u001b[39;49m\u001b[43m]\u001b[49m\u001b[38;5;241;43m.\u001b[39;49m\u001b[43mvalues\u001b[49m\u001b[43m,\u001b[49m\u001b[43m \u001b[49m\n\u001b[1;32m      4\u001b[0m \u001b[43m                         \u001b[49m\u001b[43mrichness_err\u001b[49m\u001b[38;5;241;43m=\u001b[39;49m\u001b[43msample_df\u001b[49m\u001b[43m[\u001b[49m\u001b[38;5;124;43m'\u001b[39;49m\u001b[38;5;124;43mrichness_err\u001b[39;49m\u001b[38;5;124;43m'\u001b[39;49m\u001b[43m]\u001b[49m\u001b[38;5;241;43m.\u001b[39;49m\u001b[43mvalues\u001b[49m\u001b[43m)\u001b[49m\n",
      "File \u001b[0;32m/mnt/lustre/projects/astro/general/jp735/XGA_dev/XGA/xga/samples/extended.py:132\u001b[0m, in \u001b[0;36mClusterSample.__init__\u001b[0;34m(self, ra, dec, redshift, name, r200, r500, r2500, richness, richness_err, wl_mass, wl_mass_err, custom_region_radius, use_peak, peak_lo_en, peak_hi_en, back_inn_rad_factor, back_out_rad_factor, cosmology, load_fits, clean_obs, clean_obs_reg, clean_obs_threshold, no_prog_bar, psf_corr, peak_find_method, telescope, search_distance)\u001b[0m\n\u001b[1;32m    129\u001b[0m \u001b[38;5;28;01mfrom\u001b[39;00m \u001b[38;5;21;01m.\u001b[39;00m\u001b[38;5;21;01m.\u001b[39;00m\u001b[38;5;21;01mgenerate\u001b[39;00m\u001b[38;5;21;01m.\u001b[39;00m\u001b[38;5;21;01mesass\u001b[39;00m \u001b[38;5;28;01mimport\u001b[39;00m evtool_image, expmap\n\u001b[1;32m    131\u001b[0m \u001b[38;5;66;03m# Using the super defines BaseSources and stores them in the self._sources dictionary\u001b[39;00m\n\u001b[0;32m--> 132\u001b[0m \u001b[38;5;28;43msuper\u001b[39;49m\u001b[43m(\u001b[49m\u001b[43m)\u001b[49m\u001b[38;5;241;43m.\u001b[39;49m\u001b[38;5;21;43m__init__\u001b[39;49m\u001b[43m(\u001b[49m\u001b[43mra\u001b[49m\u001b[43m,\u001b[49m\u001b[43m \u001b[49m\u001b[43mdec\u001b[49m\u001b[43m,\u001b[49m\u001b[43m \u001b[49m\u001b[43mredshift\u001b[49m\u001b[43m,\u001b[49m\u001b[43m \u001b[49m\u001b[43mname\u001b[49m\u001b[43m,\u001b[49m\u001b[43m \u001b[49m\u001b[43mcosmology\u001b[49m\u001b[43m,\u001b[49m\u001b[43m \u001b[49m\u001b[43mload_products\u001b[49m\u001b[38;5;241;43m=\u001b[39;49m\u001b[38;5;28;43;01mTrue\u001b[39;49;00m\u001b[43m,\u001b[49m\u001b[43m \u001b[49m\u001b[43mload_fits\u001b[49m\u001b[38;5;241;43m=\u001b[39;49m\u001b[38;5;28;43;01mFalse\u001b[39;49;00m\u001b[43m,\u001b[49m\n\u001b[1;32m    133\u001b[0m \u001b[43m                 \u001b[49m\u001b[43mno_prog_bar\u001b[49m\u001b[38;5;241;43m=\u001b[39;49m\u001b[43mno_prog_bar\u001b[49m\u001b[43m,\u001b[49m\u001b[43m \u001b[49m\u001b[43mtelescope\u001b[49m\u001b[38;5;241;43m=\u001b[39;49m\u001b[43mtelescope\u001b[49m\u001b[43m,\u001b[49m\u001b[43m \u001b[49m\u001b[43msearch_distance\u001b[49m\u001b[38;5;241;43m=\u001b[39;49m\u001b[43msearch_distance\u001b[49m\u001b[43m)\u001b[49m\n\u001b[1;32m    135\u001b[0m \u001b[38;5;28;01mif\u001b[39;00m \u001b[38;5;124m'\u001b[39m\u001b[38;5;124mxmm\u001b[39m\u001b[38;5;124m'\u001b[39m \u001b[38;5;129;01min\u001b[39;00m \u001b[38;5;28mself\u001b[39m\u001b[38;5;241m.\u001b[39mtelescopes:\n\u001b[1;32m    136\u001b[0m     \u001b[38;5;66;03m# This part is super useful - it is much quicker to use the base sources to generate all\u001b[39;00m\n\u001b[1;32m    137\u001b[0m     \u001b[38;5;66;03m#  necessary ratemaps, as we can do it in parallel for the entire sample, rather than one at a time as\u001b[39;00m\n\u001b[1;32m    138\u001b[0m     \u001b[38;5;66;03m#  might be necessary for peak finding in the cluster init.\u001b[39;00m\n\u001b[1;32m    139\u001b[0m     evselect_image(\u001b[38;5;28mself\u001b[39m, peak_lo_en, peak_hi_en)\n",
      "File \u001b[0;32m/mnt/lustre/projects/astro/general/jp735/XGA_dev/XGA/xga/samples/base.py:146\u001b[0m, in \u001b[0;36mBaseSample.__init__\u001b[0;34m(self, ra, dec, redshift, name, cosmology, load_products, load_fits, no_prog_bar, telescope, search_distance)\u001b[0m\n\u001b[1;32m    144\u001b[0m \u001b[38;5;28;01mif\u001b[39;00m \u001b[38;5;28mlen\u001b[39m(\u001b[38;5;28mself\u001b[39m\u001b[38;5;241m.\u001b[39m_sources) \u001b[38;5;241m==\u001b[39m \u001b[38;5;241m0\u001b[39m:\n\u001b[1;32m    145\u001b[0m     nice_tels \u001b[38;5;241m=\u001b[39m [PRETTY_TELESCOPE_NAMES[t] \u001b[38;5;28;01mfor\u001b[39;00m t \u001b[38;5;129;01min\u001b[39;00m telescope]\n\u001b[0;32m--> 146\u001b[0m     \u001b[38;5;28;01mraise\u001b[39;00m NoValidObservationsError(\u001b[38;5;124m\"\u001b[39m\u001b[38;5;124mNo sources have been declared, likely meaning that none of the sample have\u001b[39m\u001b[38;5;124m\"\u001b[39m\n\u001b[1;32m    147\u001b[0m                                    \u001b[38;5;124m\"\u001b[39m\u001b[38;5;124m valid \u001b[39m\u001b[38;5;132;01m{t}\u001b[39;00m\u001b[38;5;124m data.\u001b[39m\u001b[38;5;124m\"\u001b[39m\u001b[38;5;241m.\u001b[39mformat(t\u001b[38;5;241m=\u001b[39m\u001b[38;5;124m'\u001b[39m\u001b[38;5;124m/\u001b[39m\u001b[38;5;124m'\u001b[39m\u001b[38;5;241m.\u001b[39mjoin(nice_tels)))\n\u001b[1;32m    149\u001b[0m \u001b[38;5;66;03m# Put all the warnings for there being no XMM data in one - I think it's neater. Wait until after the check\u001b[39;00m\n\u001b[1;32m    150\u001b[0m \u001b[38;5;66;03m#  to make sure that are some sources because in that case this warning is redundant.\u001b[39;00m\n\u001b[1;32m    151\u001b[0m \u001b[38;5;66;03m# HOWEVER - I only want this warning to appear in certain circumstances. For instance I wouldn't want it\u001b[39;00m\n\u001b[1;32m    152\u001b[0m \u001b[38;5;66;03m#  to be triggered here for a ClusterSample declaration that has called the super init (this method), as that\u001b[39;00m\n\u001b[1;32m    153\u001b[0m \u001b[38;5;66;03m#  class declaration does its own (somewhat different) check on which sources have data\u001b[39;00m\n\u001b[1;32m    154\u001b[0m no_data \u001b[38;5;241m=\u001b[39m [name \u001b[38;5;28;01mfor\u001b[39;00m name \u001b[38;5;129;01min\u001b[39;00m \u001b[38;5;28mself\u001b[39m\u001b[38;5;241m.\u001b[39m_failed_sources \u001b[38;5;28;01mif\u001b[39;00m \u001b[38;5;28mself\u001b[39m\u001b[38;5;241m.\u001b[39m_failed_sources[name] \u001b[38;5;241m==\u001b[39m \u001b[38;5;124m'\u001b[39m\u001b[38;5;124mNoMatch\u001b[39m\u001b[38;5;124m'\u001b[39m]\n",
      "\u001b[0;31mNoValidObservationsError\u001b[0m: No sources have been declared, likely meaning that none of the sample have valid XMM/eROSITA data."
     ]
    }
   ],
   "source": [
    "demo_smp = ClusterSample(sample_df[\"ra\"].values, sample_df[\"dec\"].values, sample_df[\"z\"].values, \n",
    "                         sample_df[\"name\"].values, r200=Quantity(sample_df[\"r200\"].values, \"kpc\"),\n",
    "                         r500=Quantity(sample_df[\"r500\"].values, 'kpc'), richness=sample_df['richness'].values, \n",
    "                         richness_err=sample_df['richness_err'].values)"
   ]
  },
  {
   "cell_type": "markdown",
   "metadata": {},
   "source": [
    "All sample classes have an `info()` method, just like sources, though not as much information is included as in the source `info()` methods. It is simple to retrieve properties for all sources, such as name and redshift."
   ]
  },
  {
   "cell_type": "code",
   "execution_count": null,
   "metadata": {},
   "outputs": [],
   "source": [
    "demo_smp.info()\n",
    "\n",
    "print(demo_smp.names)\n",
    "print(demo_smp.redshifts)"
   ]
  },
  {
   "cell_type": "markdown",
   "metadata": {},
   "source": [
    "## Getting telescope information"
   ]
  },
  {
   "cell_type": "markdown",
   "metadata": {},
   "source": [
    "The `src_telescopes` property allows us to see which telescopes have data associated with each source in the sample.  "
   ]
  },
  {
   "cell_type": "code",
   "execution_count": null,
   "metadata": {},
   "outputs": [],
   "source": [
    "# Returns a dictionary where the keys are source names\n",
    "# and the values are lists of telescope names associated with the sources\n",
    "print(demo_smp.src_telescopes)"
   ]
  },
  {
   "cell_type": "markdown",
   "metadata": {},
   "source": [
    "To just see which telescopes are associated with the sample as a whole, the `telescopes` property can be used."
   ]
  },
  {
   "cell_type": "code",
   "execution_count": null,
   "metadata": {},
   "outputs": [],
   "source": [
    "# This will return a list of telescope names that are associated with at least one of the sources in the sample. \n",
    "print(demo_smp.telescopes)"
   ]
  },
  {
   "cell_type": "markdown",
   "metadata": {},
   "source": [
    "## Interacting with a source object in a sample"
   ]
  },
  {
   "cell_type": "markdown",
   "metadata": {},
   "source": [
    "Just as with many Python objects (lists, dictionaries, etc.), a sample can be indexed to retrieve individual elements from the whole (in this case individual source objects). What is slightly different about XGA sample objects is that you may use an integer value or a name to retrieve the specific source object you want:"
   ]
  },
  {
   "cell_type": "code",
   "execution_count": null,
   "metadata": {},
   "outputs": [],
   "source": [
    "# Looking at the first source stored in the sample\n",
    "chosen_src = demo_smp[0]\n",
    "# And printing its name\n",
    "print(chosen_src.name)\n",
    "\n",
    "# Now showing that the name of a source can also be used to retrieve the object\n",
    "chosen_src = demo_smp['XCSSDSS-124']\n",
    "print(chosen_src.name)"
   ]
  },
  {
   "cell_type": "markdown",
   "metadata": {},
   "source": [
    "## Removing an ObsID from a source object"
   ]
  },
  {
   "cell_type": "markdown",
   "metadata": {},
   "source": [
    "It is possible that you may want to remove an ObsID from a source object, and as such throw away the data associated with that ObsID. In XGA this is called disassociating, and you can choose to remove as many ObsIDs as you like, or even individual instruments from an ObsID.\n",
    "\n",
    "You may pass a string if you just wish to remove one ObsID, or a dictionary if you wish to be more precise."
   ]
  },
  {
   "cell_type": "code",
   "execution_count": null,
   "metadata": {},
   "outputs": [],
   "source": [
    "# This removes all reference to observation 0123710201 from the source object\n",
    "demo_src.disassociate_obs('0123710201')\n",
    "\n",
    "# This, however, removes only the MOS1 and MOS2 data from observation 0112880801\n",
    "demo_src.disassociate_obs({'0112880801': ['mos1', 'mos2']})"
   ]
  },
  {
   "cell_type": "markdown",
   "metadata": {},
   "source": [
    "Looking at the source summary and instruments property again to confirm that we have removed data."
   ]
  },
  {
   "cell_type": "code",
   "execution_count": null,
   "metadata": {},
   "outputs": [],
   "source": [
    "demo_src.info()\n",
    "\n",
    "print(demo_src.instruments)"
   ]
  },
  {
   "cell_type": "markdown",
   "metadata": {},
   "source": [
    "## Removing a source from a sample"
   ]
  },
  {
   "cell_type": "markdown",
   "metadata": {},
   "source": [
    "You may also wish to remove a source from a sample, which is even easier than removing observations from sources. We can simply use the Python 'del' operator, identifying the source to be removed either with its name, or with its index in the sample object."
   ]
  },
  {
   "cell_type": "code",
   "execution_count": null,
   "metadata": {},
   "outputs": [],
   "source": [
    "# Here we remove a source using its name\n",
    "del demo_smp['XCSSDSS-124']\n",
    "\n",
    "# But we can also remove a source just using an index\n",
    "del demo_smp[2]"
   ]
  },
  {
   "cell_type": "markdown",
   "metadata": {},
   "source": [
    "And if we look again at the sources included in this sample, we can see two have been removed"
   ]
  },
  {
   "cell_type": "code",
   "execution_count": null,
   "metadata": {},
   "outputs": [],
   "source": [
    "demo_smp.info()\n",
    "\n",
    "print(demo_smp.names)\n",
    "print(demo_smp.redshifts)"
   ]
  }
 ],
 "metadata": {
  "kernelspec": {
   "display_name": "Python 3",
   "language": "python",
   "name": "python3"
  },
  "language_info": {
   "codemirror_mode": {
    "name": "ipython",
    "version": 3
   },
   "file_extension": ".py",
   "mimetype": "text/x-python",
   "name": "python",
   "nbconvert_exporter": "python",
   "pygments_lexer": "ipython3",
   "version": "3.8.13"
  },
  "vscode": {
   "interpreter": {
    "hash": "eda4c904454499d28d11a238fc843e599c485f79e5beab49a4e5154c51d42694"
   }
  }
 },
 "nbformat": 4,
 "nbformat_minor": 4
}
