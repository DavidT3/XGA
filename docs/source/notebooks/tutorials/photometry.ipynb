{
 "cells": [
  {
   "cell_type": "markdown",
   "metadata": {},
   "source": [
    "# Photometry with XGA"
   ]
  },
  {
   "cell_type": "markdown",
   "metadata": {},
   "source": [
    "This tutorial will show you how to perform basic photometric analyses on XGA sources, starting with how you use the built in SAS interface to generate the necessary XMM images, exposure maps, and the XGA ratemap objects. Using the SAS interface requires that a version of SAS be installed on your system, and the module will check for the presence of this software before trying to run any SAS routines.\n",
    "\n",
    "I will take you through the basics of interacting with the XGA photometric products, including using source masks and the built in peak finding techniques. "
   ]
  },
  {
   "cell_type": "code",
   "execution_count": 1,
   "metadata": {},
   "outputs": [],
   "source": [
    "from astropy.units import Quantity\n",
    "import numpy as np\n",
    "import pandas as pd\n",
    "\n",
    "from xga.sources import GalaxyCluster\n",
    "from xga.samples import ClusterSample\n",
    "from xga.sas import evselect_image, eexpmap, emosaic"
   ]
  },
  {
   "cell_type": "markdown",
   "metadata": {},
   "source": [
    "First of all, I will declare an individual galaxy cluster source object, and a galaxy cluster sample object. I am going to demonstrate that you can use the SAS interface with individual sources and samples of sources in exactly the same way.  The sample of four clusters is taken from the XCS-SDSS sample (**add reference to Paul's paper**), and the individual cluster is Abell 907. "
   ]
  },
  {
   "cell_type": "code",
   "execution_count": 2,
   "metadata": {},
   "outputs": [
    {
     "name": "stderr",
     "output_type": "stream",
     "text": [
      "Declaring BaseSource Sample: 100%|██████████| 4/4 [00:04<00:00,  1.04s/it]\n",
      "Setting up Galaxy Clusters:   0%|          | 0/4 [00:00<?, ?it/s]"
     ]
    },
    {
     "name": "stdout",
     "output_type": "stream",
     "text": [
      "Pre-generating necessary products\n"
     ]
    },
    {
     "name": "stderr",
     "output_type": "stream",
     "text": [
      "Setting up Galaxy Clusters:  25%|██▌       | 1/4 [00:05<00:16,  5.49s/it]/home/dt237/software/anaconda3/envs/XGA/lib/python3.8/site-packages/astropy/units/quantity.py:477: RuntimeWarning: divide by zero encountered in true_divide\n",
      "  result = super().__array_ufunc__(function, method, *arrays, **kwargs)\n",
      "/home/dt237/software/anaconda3/envs/XGA/lib/python3.8/site-packages/astropy/units/quantity.py:477: RuntimeWarning: divide by zero encountered in true_divide\n",
      "  result = super().__array_ufunc__(function, method, *arrays, **kwargs)\n",
      "Setting up Galaxy Clusters: 100%|██████████| 4/4 [00:27<00:00,  6.98s/it]\n"
     ]
    }
   ],
   "source": [
    "# Setting up the column names and numpy array that go into the Pandas dataframe\n",
    "column_names = ['name', 'ra', 'dec', 'z', 'r500', 'r200', 'richness', 'richness_err']\n",
    "cluster_data = np.array([['XCSSDSS-124', 0.80057775, -6.0918182, 0.251, 1220.11, 1777.06, 109.55, 4.49],\n",
    "                         ['XCSSDSS-2789', 0.95553986, 2.068019, 0.11, 1039.14, 1519.79, 38.90, 2.83],\n",
    "                         ['XCSSDSS-290', 2.7226392, 29.161021, 0.338, 935.58, 1359.37, 105.10, 5.99],\n",
    "                         ['XCSSDSS-134', 4.9083898, 3.6098177, 0.273, 1157.04, 1684.15, 108.60, 4.79]])\n",
    "\n",
    "# Possibly I'm overcomplicating this by making it into a dataframe, but it is an excellent data structure,\n",
    "#  and one that is very commonly used in my own analyses.\n",
    "sample_df = pd.DataFrame(data=cluster_data, columns=column_names)\n",
    "sample_df[['ra', 'dec', 'z', 'r500', 'r200', 'richness', 'richness_err']] = \\\n",
    "    sample_df[['ra', 'dec', 'z', 'r500', 'r200', 'richness', 'richness_err']].astype(float)\n",
    "\n",
    "# Defining the sample of four XCS-SDSS galaxy clusters\n",
    "demo_smp = ClusterSample(sample_df[\"ra\"].values, sample_df[\"dec\"].values, sample_df[\"z\"].values, \n",
    "                         sample_df[\"name\"].values, r200=Quantity(sample_df[\"r200\"].values, \"kpc\"),\n",
    "                         r500=Quantity(sample_df[\"r500\"].values, 'kpc'), richness=sample_df['richness'].values, \n",
    "                         richness_err=sample_df['richness_err'].values)\n",
    "\n",
    "# And defining an individual source object for Abell 907\n",
    "demo_src = GalaxyCluster(149.59209, -11.05972, 0.16, r500=Quantity(1200, 'kpc'), r200=Quantity(1700, 'kpc'), \n",
    "                         name=\"A907\")"
   ]
  },
  {
   "cell_type": "markdown",
   "metadata": {},
   "source": [
    "## A note on XGA's Parallelism"
   ]
  },
  {
   "cell_type": "markdown",
   "metadata": {},
   "source": [
    "In every SAS function built into XGA (and indeed many functions in other parts of the module), you will find a **num_cores** keyword argument which tells the function how many cores on your local machine it is allowed to use. The default value is 90% of the available cores on your system, though you are of course free to set your own value when you call the functions.\n",
    "\n",
    "XGA does not currently support parallelism through job submission to HPCs, though that is a planned feature.\n",
    "\n",
    "To see the number of cores which have automatically allocated to XGA, you can import the NUM_CORES constant from the base xga module (this tutorial for instance was run on a laptop with an Intel Core i5-8300H CPU, with four physical cores and four logical cores):"
   ]
  },
  {
   "cell_type": "code",
   "execution_count": 3,
   "metadata": {},
   "outputs": [
    {
     "data": {
      "text/plain": [
       "7"
      ]
     },
     "execution_count": 3,
     "metadata": {},
     "output_type": "execute_result"
    }
   ],
   "source": [
    "from xga import NUM_CORES\n",
    "NUM_CORES"
   ]
  },
  {
   "cell_type": "markdown",
   "metadata": {},
   "source": [
    "## Generating XMM Images with XGA"
   ]
  },
  {
   "cell_type": "markdown",
   "metadata": {},
   "source": [
    "Please note that the XCS data reduction pipeline produces images and exposure maps in the 0.5-2.0keV and 2.0-10.0keV energy ranges, and as the configuration file points XGA towards existing data, these sources will already have those images and exposure maps loaded in.\n",
    "\n",
    "Please also note that ClusterSample class automatically generates images and exposure maps in the energy range used for peak finding (set by the keyword arguments **peak_lo_en** and **peak_hi_en**, by default 0.5keV and 2.0keV respectively). An individual GalaxyCluster source object will also automatically generate images and exposure maps in this range, but only if the **use_peak** keyword argument is set to True (which it is by default).\n",
    "\n",
    "As such, I'm going to demonstrate how you can generate images and exposure maps in another (probably not very useful in a real analysis) energy range, 0.5-2.0keV. When telling SAS what energy range to generate in, we use Astropy quantities in units of keV, though you could supply limits in any energy unit:"
   ]
  },
  {
   "cell_type": "code",
   "execution_count": 4,
   "metadata": {},
   "outputs": [],
   "source": [
    "# Setting up the lower and upper energy bounds for our products\n",
    "lo_en = Quantity(0.5, 'keV')\n",
    "hi_en = Quantity(10.0, 'keV')"
   ]
  },
  {
   "cell_type": "code",
   "execution_count": 5,
   "metadata": {},
   "outputs": [
    {
     "name": "stderr",
     "output_type": "stream",
     "text": [
      "Generating products of type(s) image: 100%|██████████| 12/12 [02:18<00:00, 11.51s/it]\n",
      "Generating products of type(s) image: 100%|██████████| 9/9 [00:34<00:00,  3.87s/it]\n"
     ]
    }
   ],
   "source": [
    "# This will generate images in the 0.5-10keV range, for every instrument in \n",
    "#  every ObsID in every source in this sample\n",
    "demo_smp = evselect_image(demo_smp, lo_en=lo_en, hi_en=hi_en)\n",
    "\n",
    "# The function call is identical when generating images for an individual source, but here \n",
    "#  I have limited XGA to using only four cores\n",
    "demo_src = evselect_image(demo_src, lo_en=lo_en, hi_en=hi_en, num_cores=4)"
   ]
  },
  {
   "cell_type": "markdown",
   "metadata": {},
   "source": [
    "These images have now been generated and associated with the appropriate source."
   ]
  },
  {
   "cell_type": "markdown",
   "metadata": {},
   "source": [
    "## Generating XMM Exposure Maps with XGA"
   ]
  },
  {
   "cell_type": "markdown",
   "metadata": {},
   "source": [
    "The process for generating exposure maps is almost identical to the image generation process, we simply call a different function, though XMM calibration files (CCFs) are required to make exposure maps, so they will be generated if they do not already exist:"
   ]
  },
  {
   "cell_type": "code",
   "execution_count": 6,
   "metadata": {},
   "outputs": [
    {
     "name": "stderr",
     "output_type": "stream",
     "text": [
      "Generating products of type(s) expmap: 100%|██████████| 12/12 [01:18<00:00,  6.53s/it]\n",
      "Generating products of type(s) expmap: 100%|██████████| 9/9 [00:47<00:00,  5.23s/it]\n"
     ]
    }
   ],
   "source": [
    "# This will generate expmaps in the 0.5-10keV range, for every instrument in \n",
    "#  every ObsID in every source in this sample\n",
    "demo_smp = eexpmap(demo_smp, lo_en=lo_en, hi_en=hi_en)\n",
    "\n",
    "# The function call is identical when generating expmaps for an individual source\n",
    "demo_src = eexpmap(demo_src, lo_en=lo_en, hi_en=hi_en)"
   ]
  },
  {
   "cell_type": "markdown",
   "metadata": {},
   "source": [
    "## XGA Ratemaps"
   ]
  },
  {
   "cell_type": "markdown",
   "metadata": {},
   "source": [
    "Now that we've generated images and exposure maps for our weird, custom energy range, we can see that XGA has automatically made RateMaps from those products, I use the individual source as a demonstration here. There are nine ratemaps present because there are three observations of Abell 907, each with three valid instruments:"
   ]
  },
  {
   "cell_type": "code",
   "execution_count": 7,
   "metadata": {},
   "outputs": [
    {
     "data": {
      "text/plain": [
       "[<xga.products.phot.RateMap at 0x7f6d07d031c0>,\n",
       " <xga.products.phot.RateMap at 0x7f6d07d888e0>,\n",
       " <xga.products.phot.RateMap at 0x7f6d07d03820>,\n",
       " <xga.products.phot.RateMap at 0x7f6d07d03f10>,\n",
       " <xga.products.phot.RateMap at 0x7f6d07d13100>,\n",
       " <xga.products.phot.RateMap at 0x7f6d07d03940>,\n",
       " <xga.products.phot.RateMap at 0x7f6d07d03e80>,\n",
       " <xga.products.phot.RateMap at 0x7f6d07d88b80>,\n",
       " <xga.products.phot.RateMap at 0x7f6d07d033a0>]"
      ]
     },
     "execution_count": 7,
     "metadata": {},
     "output_type": "execute_result"
    }
   ],
   "source": [
    "rts = demo_src.get_products('ratemap', extra_key='bound_0.5-10.0')\n",
    "rts"
   ]
  },
  {
   "cell_type": "markdown",
   "metadata": {},
   "source": [
    "## Basic properties of ANY XGA Product"
   ]
  },
  {
   "cell_type": "markdown",
   "metadata": {},
   "source": [
    "Here I just demonstrate some of the most basic (but still useful) properties of XGA's photometric products. I am going to use one of the ratemaps generated for Abell 907, but the properties I demonstrate in this section will be present in **any** XGA photometric product. These first properties should actually be present in every XGA product, photometric or otherwise:"
   ]
  },
  {
   "cell_type": "code",
   "execution_count": 35,
   "metadata": {},
   "outputs": [
    {
     "name": "stdout",
     "output_type": "stream",
     "text": [
      "A907 \n",
      "\n",
      "0404910601 pn \n",
      "\n",
      "/home/dt237/code/PycharmProjects/XGA/docs/source/notebooks/tutorials/xga_output/0404910601/0404910601_pn_0.5-10.0keVimg.fits\n"
     ]
    }
   ],
   "source": [
    "chosen_ratemap = rts[0]\n",
    "\n",
    "# If generated using XGA's SAS interface, the product stores the name \n",
    "#  of the source it is associated with\n",
    "print(chosen_ratemap.src_name, '\\n')\n",
    "\n",
    "# Its also aware of what ObsID and instrument it is from\n",
    "print(chosen_ratemap.obs_id, chosen_ratemap.instrument, '\\n')\n",
    "\n",
    "# And where the base file is stored \n",
    "print(chosen_ratemap.path)"
   ]
  },
  {
   "cell_type": "code",
   "execution_count": 28,
   "metadata": {},
   "outputs": [
    {
     "name": "stdout",
     "output_type": "stream",
     "text": [
      "DELETE THIS\n"
     ]
    },
    {
     "data": {
      "text/plain": [
       "['__class__',\n",
       " '__delattr__',\n",
       " '__dict__',\n",
       " '__dir__',\n",
       " '__doc__',\n",
       " '__eq__',\n",
       " '__format__',\n",
       " '__ge__',\n",
       " '__getattribute__',\n",
       " '__gt__',\n",
       " '__hash__',\n",
       " '__init__',\n",
       " '__init_subclass__',\n",
       " '__le__',\n",
       " '__lt__',\n",
       " '__module__',\n",
       " '__ne__',\n",
       " '__new__',\n",
       " '__reduce__',\n",
       " '__reduce_ex__',\n",
       " '__repr__',\n",
       " '__setattr__',\n",
       " '__sizeof__',\n",
       " '__str__',\n",
       " '__subclasshook__',\n",
       " '__weakref__',\n",
       " '_construct_on_demand',\n",
       " '_data',\n",
       " '_edge_mask',\n",
       " '_energy_bounds',\n",
       " '_ex_obj',\n",
       " '_expmap_path',\n",
       " '_header',\n",
       " '_im_obj',\n",
       " '_im_path',\n",
       " '_inst',\n",
       " '_obs_id',\n",
       " '_og_cmd',\n",
       " '_on_sensor_mask',\n",
       " '_other_error',\n",
       " '_path',\n",
       " '_prod_type',\n",
       " '_psf_corrected',\n",
       " '_psf_correction_algorithm',\n",
       " '_psf_model',\n",
       " '_psf_num_bins',\n",
       " '_psf_num_iterations',\n",
       " '_read_on_demand',\n",
       " '_read_wcs_on_demand',\n",
       " '_sas_error',\n",
       " '_sas_warn',\n",
       " '_shape',\n",
       " '_src_name',\n",
       " '_usable',\n",
       " '_wcs_radec',\n",
       " '_wcs_xmmXY',\n",
       " '_wcs_xmmdetXdetY',\n",
       " '_why_unusable',\n",
       " 'clustering_peak',\n",
       " 'convolved_peak',\n",
       " 'coord_conv',\n",
       " 'data',\n",
       " 'detxy_wcs',\n",
       " 'edge_mask',\n",
       " 'energy_bounds',\n",
       " 'errors',\n",
       " 'expmap',\n",
       " 'expmap_path',\n",
       " 'get_rate',\n",
       " 'get_view',\n",
       " 'header',\n",
       " 'image',\n",
       " 'instrument',\n",
       " 'near_edge',\n",
       " 'not_usable_reasons',\n",
       " 'obs_id',\n",
       " 'parse_stderr',\n",
       " 'path',\n",
       " 'psf_algorithm',\n",
       " 'psf_bins',\n",
       " 'psf_corrected',\n",
       " 'psf_iterations',\n",
       " 'psf_model',\n",
       " 'radec_wcs',\n",
       " 'raise_errors',\n",
       " 'sas_command',\n",
       " 'sas_errors',\n",
       " 'sas_warnings',\n",
       " 'sensor_mask',\n",
       " 'shape',\n",
       " 'simple_peak',\n",
       " 'skyxy_wcs',\n",
       " 'src_name',\n",
       " 'type',\n",
       " 'unprocessed_stderr',\n",
       " 'unprocessed_stdout',\n",
       " 'usable',\n",
       " 'view']"
      ]
     },
     "execution_count": 28,
     "metadata": {},
     "output_type": "execute_result"
    }
   ],
   "source": [
    "print('DELETE THIS')\n",
    "dir(chosen_ratemap)"
   ]
  },
  {
   "cell_type": "markdown",
   "metadata": {},
   "source": [
    "## Basic properties of XGA Photometric products"
   ]
  },
  {
   "cell_type": "markdown",
   "metadata": {},
   "source": [
    "Here I demonstrate how to access the data and fits header information of an XGA photometric product. I also show off some of the useful functions that are built into photometric objects to make our lives easier.\n",
    "\n",
    "Accessing an image's (or in this case a ratemap's) data is extremely simple, with the added benefit that data is not loaded into memory from the disk until the user actually wants to access it. Its possible to have hundreds of images associated with a single source, so avoiding having data in memory unless its needed helps stop us running out of RAM.\n",
    "\n",
    "You shouldn't be concerned that the data shown here is are all zeros, the outskirts of the ratemap are off of the XMM detector and as such have a countrate of zero:"
   ]
  },
  {
   "cell_type": "code",
   "execution_count": 31,
   "metadata": {},
   "outputs": [
    {
     "data": {
      "text/plain": [
       "array([[0., 0., 0., ..., 0., 0., 0.],\n",
       "       [0., 0., 0., ..., 0., 0., 0.],\n",
       "       [0., 0., 0., ..., 0., 0., 0.],\n",
       "       ...,\n",
       "       [0., 0., 0., ..., 0., 0., 0.],\n",
       "       [0., 0., 0., ..., 0., 0., 0.],\n",
       "       [0., 0., 0., ..., 0., 0., 0.]])"
      ]
     },
     "execution_count": 31,
     "metadata": {},
     "output_type": "execute_result"
    }
   ],
   "source": [
    "# Retrieving the data as a numpy array is as simple as \n",
    "#  calling the data property\n",
    "my_ratemap_data = chosen_ratemap.data\n",
    "my_ratemap_data"
   ]
  },
  {
   "cell_type": "markdown",
   "metadata": {},
   "source": [
    "You can also retrieve the whole header of the fits image by using the header property:"
   ]
  },
  {
   "cell_type": "code",
   "execution_count": 32,
   "metadata": {
    "scrolled": true
   },
   "outputs": [
    {
     "data": {
      "text/plain": [
       "\n",
       "SIMPLE  =                    T / file does conform to FITS standard\n",
       "BITPIX  =                   32 / number of bits per data pixel\n",
       "NAXIS   =                    2 / number of data axes\n",
       "NAXIS1  =                  512 / length of data axis 1\n",
       "NAXIS2  =                  512 / length of data axis 2\n",
       "EXTEND  =                    T / FITS dataset may contain extensions\n",
       "XPROC0  = 'evselect table=/home/dt237/apollo_mnt/xmm_obs/data/0404910601/eclean'\n",
       "XDAL0   = '0404910601_pn_0.5-10.0keVimg.fits 2021-01-08T13:31:51.000 Create evs'\n",
       "CREATOR = 'evselect (evselect-3.68) [xmmsas_20190531_1155-18.0.0]' / name of cod\n",
       "DATE    = '2021-01-08T13:31:51.000' / creation date\n",
       "ORIGIN  = 'User site'          / \n",
       "ODSVER  = '16.911'             / ODS version\n",
       "ODSCHAIN= 'S2KO'               / Processing Chain\n",
       "FILTER  = 'Thin1'              / Filter ID\n",
       "FRMTIME =                  199 / [ms] Frame Time, nearest integer\n",
       "TELESCOP= 'XMM'                / Telescope (mission) name\n",
       "INSTRUME= 'EPN'                / Instrument name\n",
       "REVOLUT =                 1184 / XMM revolution number\n",
       "OBS_MODE= 'POINTING'           / Observation mode (pointing or slew)\n",
       "OBS_ID  = '0404910601'         / Observation identifier\n",
       "EXP_ID  = '0404910601003'      / Exposure identifier\n",
       "EXPIDSTR= 'S003'               / Exposure identifier (Xnnn)\n",
       "CONTENT = 'EPIC PN IMAGING MODE EVENT LIST' / \n",
       "DATAMODE= 'IMAGING'            / Instrument mode (IMAGING, TIMING, BURST, etc.)\n",
       "SUBMODE = 'PrimeFullWindowExtended' / Guest Observer mode\n",
       "OBJECT  = 'RXCJ0958-1103'      / Name of observed object\n",
       "DATE-OBS= '2006-05-27T10:58:40' / Start Time (UTC) of exposure\n",
       "DATE-END= '2006-05-27T15:34:21' / End Time (UTC) of exposure\n",
       "DATE_OBS= '2006-05-27T09:57:27.000' / Date observations were made\n",
       "DATE_END= '2006-05-27T15:42:37.000' / Date observations ended\n",
       "DURATION=              20710.0 / [s] Duration of observation\n",
       "TIMESYS = 'TT'                 / XMM time will be TT (Terrestial Time)\n",
       "MJDREF  =              50814.0 / [d] 1998-01-01T00:00:00 (TT) expressed in MJD (\n",
       "TIMEZERO=                    0 / Clock correction (if not zero)\n",
       "TIMEUNIT= 's'                  / All times in s unless specified otherwise\n",
       "CLOCKAPP=                    T / Clock correction applied\n",
       "TIMEREF = 'LOCAL'              / Reference location of photon arrival times\n",
       "TASSIGN = 'SATELLITE'          / Location of time assignment\n",
       "OBSERVER= 'Prof Hans Boehringer' / Name of PI\n",
       "RA_OBJ  =           149.592084 / [deg] Ra of the observed object\n",
       "DEC_OBJ =          -11.0597222 / [deg] Dec of the observed object\n",
       "RA_NOM  =           149.592084 / [deg] Ra of boresight\n",
       "DEC_NOM =          -11.0597222 / [deg] Dec of boresight\n",
       "SRCPOS  =                  190 / [pixel] Assumed RAWY source position for fast m\n",
       "SRCPOSX =     36.6997234597762 / [pixel] real-valued RAWX source position\n",
       "SRCPOSY =     190.216005661132 / [pixel] real-valued RAWY source position\n",
       "EXPSTART= '2006-05-27T10:58:40' / Start Time (UTC) of exposure\n",
       "EXPSTOP = '2006-05-27T15:34:21' / End Time (UTC) of exposure\n",
       "OBSSTART= '2006-05-27T09:57:27.000' / Date observation was started\n",
       "OBSSTOP = '2006-05-27T15:42:37.000' / Date observation was stopped\n",
       "ATT_SRC = 'AHF'                / Source of attitude data (AHF|RAF|THF)\n",
       "ORB_RCNS=                    T / Reconstructed orbit data used?\n",
       "TFIT_RPD=                    F / Recalculated signal propagation delays?\n",
       "TFIT_DEG=                    4 / Degree of OBT-MET fit polynomial\n",
       "TFIT_RMS= 5.43513446215138e-06 / RMS value of OBT-MET polynomial fit\n",
       "TFIT_PFR=                  0.0 / Fraction of disregarded TCS data points\n",
       "TFIT_IGH=                    T / Ignored GS handover in TC data?\n",
       "LONGSTRN= 'OGIP 1.0'           / \n",
       "EQUINOX =               2000.0 / Equinox for sky coordinate x/y axes\n",
       "RADECSYS= 'FK5'                / World coord. system for this file\n",
       "REFXCTYP= 'RA---TAN'           / WCS Coord. type: RA tangent plane projection\n",
       "REFXCRPX=                25921 / WCS axis reference pixel of projected image\n",
       "REFXCRVL=           149.591375 / [deg] WCS coord. at X axis ref. pixel\n",
       "REFXCDLT= -1.38888888888889e-05 / [deg/pix] WCS X increment at ref. pixel\n",
       "REFXLMIN=                    1 / WCS minimum legal QPOE projected image X axis v\n",
       "REFXLMAX=                51840 / WCS maximum legal QPOE projected image X axis v\n",
       "REFXDMIN=                 1254 / WCS minimum projected image X axis data value\n",
       "REFXDMAX=                14799 / WCS maximum projected image X axis data value\n",
       "REFXCUNI= 'deg'                / WCS Physical units of X axis\n",
       "REFYCTYP= 'DEC--TAN'           / WCS Coord. type: DEC tangent plane projection\n",
       "REFYCRPX=                25921 / WCS axis reference pixel of projected image\n",
       "REFYCRVL=    -11.0887222222222 / [deg] WCS coord. at Y axis ref. pixel\n",
       "REFYCDLT= 1.38888888888889e-05 / [deg/pix] WCS Y increment at ref. pixel\n",
       "REFYLMIN=                    1 / WCS minimum legal QPOE projected image Y axis v\n",
       "REFYLMAX=                51840 / WCS maximum legal QPOE projected image Y axis v\n",
       "REFYDMIN=                17644 / WCS minimum projected image Y axis data value\n",
       "REFYDMAX=                33229 / WCS maximum projected image Y axis data value\n",
       "REFYCUNI= 'deg'                / WCS Physical units of Y axis\n",
       "AVRG_PNT= 'MEDIAN'             / Meaning of PNT values (mean or median)\n",
       "RA_PNT  =           149.591375 / [deg] Actual (mean) pointing RA of the optical\n",
       "DEC_PNT =    -11.0887222222222 / [deg] Actual (mean) pointing Dec of the optica\n",
       "PA_PNT  =     306.720916748047 / [deg] Actual (mean) measured position angle of\n",
       "HISTORY   1-01-08T13:31:51\n",
       "HISTORY   Created by evselect (evselect-3.68) [xmmsas_20190531_1155-18.0.0] at '\n",
       "XMMSEP  =                   83 / 83 primary image keywords follow\n",
       "SLCTEXPR= '(PI in [500:10000])' / Filtering expression used by evselect\n",
       "HDUCLASS= 'OGIP'               / Format conforms to OGIP/GSFC conventions\n",
       "HDUCLAS1= 'IMAGE'              / File contains an Image\n",
       "HDUCLAS2= 'TOTAL'              / Gross Image\n",
       "HDUVERS1= '1.1.0'              / Version of format\n",
       "CTYPE1  = 'RA---TAN'           / Coord. type: RA tangent plane projection\n",
       "CRPIX1  =     256.505747126437 / WCS reference pixel\n",
       "CRVAL1  =           149.591375 / [deg] coord. at X axis ref. pixel\n",
       "CUNIT1  = 'deg'                / Physical units of X axis\n",
       "CDELT1  = -0.00120833333333333 / WCS pixel size\n",
       "CTYPE1L = 'X'                  / WCS coordinate name\n",
       "CRPIX1L =                    1 / WCS reference pixel\n",
       "CRVAL1L =               3692.0 / WCS reference pixel value\n",
       "CDELT1L =                 87.0 / WCS pixel size\n",
       "LTV1    =    -41.4367816091954 / \n",
       "LTM1_1  =   0.0114942528735632 / \n",
       "CTYPE2  = 'DEC--TAN'           / Coord. type: DEC tangent plane projection\n",
       "CRPIX2  =     256.505747126437 / WCS reference pixel\n",
       "CRVAL2  =    -11.0887222222222 / [deg] coord. at Y axis ref. pixel\n",
       "CUNIT2  = 'deg'                / Physical units of Y axis\n",
       "CDELT2  =  0.00120833333333333 / WCS pixel size\n",
       "CTYPE2L = 'Y'                  / WCS coordinate name\n",
       "CRPIX2L =                    1 / WCS reference pixel\n",
       "CRVAL2L =               3692.0 / WCS reference pixel value\n",
       "CDELT2L =                 87.0 / WCS pixel size\n",
       "LTV2    =    -41.4367816091954 / \n",
       "LTM2_2  =   0.0114942528735632 / \n",
       "WCSNAMEL= 'PHYSICAL'           / WCS L name\n",
       "WCSAXESL=                    2 / No. of axes for WCS L\n",
       "LTM1_2  =                    0 / \n",
       "LTM2_1  =                    0 / \n",
       "TIMEDEL =           0.19453132 / [s] Length of exposure entry interval\n",
       "DSTYP1  = 'CCDNR'              / data subspace descriptor: name\n",
       "DSTYP2  = 'FLAG'               / data subspace descriptor: name\n",
       "DSTYP3  = 'PATTERN'            / data subspace descriptor: name\n",
       "DSTYP4  = 'FLAG'               / data subspace descriptor: name\n",
       "DSTYP5  = 'TIME'               / data subspace descriptor: name\n",
       "DSUNI5  = 's'                  / data subspace descriptor: units\n",
       "DSTYP6  = 'PI'                 / data subspace descriptor: name\n",
       "DSUNI6  = 'eV'                 / data subspace descriptor: units\n",
       "DSVAL1  = '1'                  / data subspace descriptor: value\n",
       "DSFORM2 = 'X'                  / data subspace descriptor: data type\n",
       "DSVAL2  = 'b00xx00000x0xxxxxxxxxxxxxxxxx' / data subspace descriptor: value\n",
       "DSVAL3  = ':4'                 / data subspace descriptor: value\n",
       "DSVAL4  = '0'                  / data subspace descriptor: value\n",
       "DSVAL5  = 'TABLE'              / data subspace descriptor: value\n",
       "DSREF5  = ':GTI00005'          / data subspace descriptor: reference\n",
       "DSVAL6  = '500:10000'          / data subspace descriptor: value\n",
       "2DSVAL1 = '2'                  / data subspace descriptor: value\n",
       "2DSREF5 = ':GTI00105'          / data subspace descriptor: reference\n",
       "3DSVAL1 = '3'                  / data subspace descriptor: value\n",
       "3DSREF5 = ':GTI00205'          / data subspace descriptor: reference\n",
       "4DSVAL1 = '4'                  / data subspace descriptor: value\n",
       "4DSREF5 = ':GTI00305'          / data subspace descriptor: reference\n",
       "5DSVAL1 = '5'                  / data subspace descriptor: value\n",
       "5DSREF5 = ':GTI00405'          / data subspace descriptor: reference\n",
       "6DSVAL1 = '6'                  / data subspace descriptor: value\n",
       "6DSREF5 = ':GTI00505'          / data subspace descriptor: reference\n",
       "7DSVAL1 = '7'                  / data subspace descriptor: value\n",
       "7DSREF5 = ':GTI00605'          / data subspace descriptor: reference\n",
       "8DSVAL1 = '8'                  / data subspace descriptor: value\n",
       "8DSREF5 = ':GTI00705'          / data subspace descriptor: reference\n",
       "9DSVAL1 = '9'                  / data subspace descriptor: value\n",
       "9DSREF5 = ':GTI00805'          / data subspace descriptor: reference\n",
       "10DSVAL1= '10'                 / data subspace descriptor: value\n",
       "10DSREF5= ':GTI00905'          / data subspace descriptor: reference\n",
       "11DSVAL1= '11'                 / data subspace descriptor: value\n",
       "11DSREF5= ':GTI01005'          / data subspace descriptor: reference\n",
       "12DSVAL1= '12'                 / data subspace descriptor: value\n",
       "12DSREF5= ':GTI01105'          / data subspace descriptor: reference\n",
       "ONTIME01=               6050.0 / Sum of GTIs for a particular CCD\n",
       "ONTIME02=               6050.0 / Sum of GTIs for a particular CCD\n",
       "ONTIME03=               6050.0 / Sum of GTIs for a particular CCD\n",
       "ONTIME04=               6050.0 / Sum of GTIs for a particular CCD\n",
       "ONTIME05=               6050.0 / Sum of GTIs for a particular CCD\n",
       "ONTIME06=               6050.0 / Sum of GTIs for a particular CCD\n",
       "ONTIME07=               6050.0 / Sum of GTIs for a particular CCD\n",
       "ONTIME08=               6050.0 / Sum of GTIs for a particular CCD\n",
       "ONTIME09=               6050.0 / Sum of GTIs for a particular CCD\n",
       "ONTIME10=               6050.0 / Sum of GTIs for a particular CCD\n",
       "ONTIME11=               6050.0 / Sum of GTIs for a particular CCD\n",
       "ONTIME12=               6050.0 / Sum of GTIs for a particular CCD\n",
       "EXPOSURE=               6050.0 / max of ONTIMEnn values"
      ]
     },
     "execution_count": 32,
     "metadata": {},
     "output_type": "execute_result"
    }
   ],
   "source": [
    "chosen_ratemap.header"
   ]
  },
  {
   "cell_type": "markdown",
   "metadata": {},
   "source": [
    "And a specific entry by indexing the header object using the entries name:"
   ]
  },
  {
   "cell_type": "code",
   "execution_count": 34,
   "metadata": {},
   "outputs": [
    {
     "data": {
      "text/plain": [
       "'Prof Hans Boehringer'"
      ]
     },
     "execution_count": 34,
     "metadata": {},
     "output_type": "execute_result"
    }
   ],
   "source": [
    "chosen_ratemap.header['OBSERVER']"
   ]
  },
  {
   "cell_type": "markdown",
   "metadata": {},
   "source": [
    "## Combined images and exposure maps"
   ]
  },
  {
   "cell_type": "markdown",
   "metadata": {},
   "source": [
    "Now that we have generated images and exposure maps for all the ObsIDs and instruments associated with all these sources that we're interested in analysing, we will want to bring all that information together by creating combined images and exposure maps. Most XGA analyses take place on combined products, because that ability to find all relevant data for a particular source is one of XGA's key strengths. Currently I use the SAS routine emosaic to generate the combined data products, and it is nearly as simple as generating images and exposure maps, the main difference is that you need to tell emosaic what type of product you want to combine:"
   ]
  },
  {
   "cell_type": "code",
   "execution_count": 12,
   "metadata": {},
   "outputs": [
    {
     "name": "stderr",
     "output_type": "stream",
     "text": [
      "Generating products of type(s) expmap: 100%|██████████| 4/4 [00:00<00:00,  9.84it/s]\n",
      "Generating products of type(s) expmap: 100%|██████████| 1/1 [00:00<00:00,  2.73it/s]\n"
     ]
    }
   ],
   "source": [
    "# ------------IMAGES------------\n",
    "# Starting off with making combined images for the sample\n",
    "demo_smp = emosaic(demo_smp, 'image', lo_en=lo_en, hi_en=hi_en)\n",
    "\n",
    "# And for the single source\n",
    "demo_src = emosaic(demo_src, 'image', lo_en=lo_en, hi_en=hi_en)\n",
    "\n",
    "# -----------EXPMAPS------------\n",
    "# The same again but telling emosaic that we want combined exposure maps this time\n",
    "demo_smp = emosaic(demo_smp, 'expmap', lo_en=lo_en, hi_en=hi_en)\n",
    "\n",
    "demo_src = emosaic(demo_src, 'expmap', lo_en=lo_en, hi_en=hi_en)"
   ]
  },
  {
   "cell_type": "markdown",
   "metadata": {},
   "source": [
    "## Bulk generation of photometric products"
   ]
  },
  {
   "cell_type": "code",
   "execution_count": null,
   "metadata": {},
   "outputs": [],
   "source": []
  }
 ],
 "metadata": {
  "kernelspec": {
   "display_name": "Python 3",
   "language": "python",
   "name": "python3"
  },
  "language_info": {
   "codemirror_mode": {
    "name": "ipython",
    "version": 3
   },
   "file_extension": ".py",
   "mimetype": "text/x-python",
   "name": "python",
   "nbconvert_exporter": "python",
   "pygments_lexer": "ipython3",
   "version": "3.8.5"
  }
 },
 "nbformat": 4,
 "nbformat_minor": 4
}
