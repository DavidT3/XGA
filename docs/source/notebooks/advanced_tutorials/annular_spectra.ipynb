{
 "cells": [
  {
   "cell_type": "markdown",
   "metadata": {},
   "source": [
    "# Annular Spectra of Extended Sources"
   ]
  },
  {
   "cell_type": "markdown",
   "metadata": {},
   "source": [
    "This section aims to run through the basics of how to generate, and interact with, annular spectra of extended sources in XGA. This will include running XSPEC fits on the annuli, as you would for a galaxy cluster were you would like to measure a projected temperature profile, and an apec normalisation profile (which was used in [gas density profiles tutorial](../advanced_tutorials/cluster_gas.html).\n",
    "\n",
    "I'll also demonstrate how to use the visualisation abilities which are built in the AnnularSpectra class, how to access results from XSPEC fits for each annulus individually, and how to retrieve annular spectra from where they have been stored in a source object."
   ]
  },
  {
   "cell_type": "code",
   "execution_count": 3,
   "metadata": {},
   "outputs": [],
   "source": [
    "from xga.samples import ClusterSample\n",
    "from xga.sas import spectrum_set\n",
    "from xga.xspec import single_temp_apec_profile\n",
    "\n",
    "from astropy.units import Quantity\n",
    "import numpy as np\n",
    "import pandas as pd"
   ]
  },
  {
   "cell_type": "markdown",
   "metadata": {},
   "source": [
    "Yet again we will be using these four clusters from the SDSSRM-XCS sample, the same clusters that were used for the [gas density profiles tutorial](../advanced_tutorials/cluster_gas.html) and the [spectroscopy tutorial](../tutorials/spectroscopy.html). There was no particular rationale behind selecting these particular clusters for this demonstration, other than that the observations of them of are a high enough quality that there shouldn't be any problem generating and fitting the spectra."
   ]
  },
  {
   "cell_type": "code",
   "execution_count": 5,
   "metadata": {},
   "outputs": [
    {
     "name": "stderr",
     "output_type": "stream",
     "text": [
      "Declaring BaseSource Sample: 100%|██████████| 4/4 [00:02<00:00,  1.67it/s]\n",
      "Generating products of type(s) ccf: 100%|██████████| 4/4 [00:10<00:00,  2.66s/it]\n",
      "Generating products of type(s) image: 100%|██████████| 4/4 [00:03<00:00,  1.23it/s]\n",
      "Generating products of type(s) expmap: 100%|██████████| 4/4 [00:01<00:00,  2.12it/s]\n",
      "Setting up Galaxy Clusters: 100%|██████████| 4/4 [00:03<00:00,  1.28it/s]\n"
     ]
    }
   ],
   "source": [
    "# Setting up the column names and numpy array that go into the Pandas dataframe\n",
    "column_names = ['name', 'ra', 'dec', 'z', 'r500', 'r200', 'richness', 'richness_err']\n",
    "cluster_data = np.array([['XCSSDSS-124', 0.80057775, -6.0918182, 0.251, 1220.11, 1777.06, 109.55, 4.49],\n",
    "                         ['XCSSDSS-2789', 0.95553986, 2.068019, 0.11, 1039.14, 1519.79, 38.90, 2.83],\n",
    "                         ['XCSSDSS-290', 2.7226392, 29.161021, 0.338, 935.58, 1359.37, 105.10, 5.99],\n",
    "                         ['XCSSDSS-134', 4.9083898, 3.6098177, 0.273, 1157.04, 1684.15, 108.60, 4.79]])\n",
    "\n",
    "# Possibly I'm overcomplicating this by making it into a dataframe, but it is an excellent data structure,\n",
    "#  and one that is very commonly used in my own analyses.\n",
    "sample_df = pd.DataFrame(data=cluster_data, columns=column_names)\n",
    "sample_df[['ra', 'dec', 'z', 'r500', 'r200', 'richness', 'richness_err']] = \\\n",
    "    sample_df[['ra', 'dec', 'z', 'r500', 'r200', 'richness', 'richness_err']].astype(float)\n",
    "\n",
    "# Defining the sample of four XCS-SDSS galaxy clusters\n",
    "demo_smp = ClusterSample(sample_df[\"ra\"].values, sample_df[\"dec\"].values, sample_df[\"z\"].values, \n",
    "                         sample_df[\"name\"].values, r200=Quantity(sample_df[\"r200\"].values, \"kpc\"),\n",
    "                         r500=Quantity(sample_df[\"r500\"].values, 'kpc'), richness=sample_df['richness'].values, \n",
    "                         richness_err=sample_df['richness_err'].values)"
   ]
  },
  {
   "cell_type": "markdown",
   "metadata": {},
   "source": [
    "## Manually generating sets of annular spectra"
   ]
  },
  {
   "cell_type": "markdown",
   "metadata": {},
   "source": [
    "There are several functions in XGA designed for generating particular types of profile from a set of annular spectra, and in most cases they will have algorithms designed to automatically decide where they're going to place annuli. However, it is entirely possible that users will want to decide for themselves where exactly the annuli should be placed, and as such I will initially demonstrate how to manually generate annular spectra for our sample."
   ]
  },
  {
   "cell_type": "markdown",
   "metadata": {},
   "source": [
    "The `spectrum_set()` function is where XGA generated sets of annular spectra by setting up the annular regions (including the removal of interloper sources), running all the SAS commands, and then combining the resulting files into a single `AnnularSpectra` [instance](../../xga.products.html#xga.products.spec.AnnularSpectra). The full documentation for the function can be found [here](../../xga.sas.html#xga.sas.spec.spectrum_set), but it is quite simple to use, with the most important argument being `radii`, where you specify what annuli should be generated.\n",
    "\n",
    "When deciding where the annuli should be placed, please bear in mind that the `radii` argument expects information on the **boundaries** of the annuli, so should start at zero if you wish the innermost annulus to be a circle. Here we set up four sets of annuli, one for each cluster:"
   ]
  },
  {
   "cell_type": "code",
   "execution_count": 15,
   "metadata": {},
   "outputs": [
    {
     "data": {
      "text/plain": [
       "[<Quantity [   0.    ,  305.0275,  610.055 ,  915.0825, 1220.11  ] kpc>,\n",
       " <Quantity [   0.    ,  249.3936,  498.7872,  748.1808,  997.5744,\n",
       "            1246.968 ] kpc>,\n",
       " <Quantity [   0.,  100.,  200.,  300., 1200.] kpc>,\n",
       " <Quantity [   0.   ,  231.408,  462.816,  694.224,  925.632, 1157.04 ] kpc>]"
      ]
     },
     "execution_count": 15,
     "metadata": {},
     "output_type": "execute_result"
    }
   ],
   "source": [
    "ann_rads = [np.linspace(0, 1, 5)*demo_smp[0].r500, np.linspace(0, 1.2, 6)*demo_smp[1].r500, \n",
    "            Quantity([0, 100, 200, 300, 1200], 'kpc'), np.linspace(0, 1, 6)*demo_smp[3].r500]\n",
    "ann_rads"
   ]
  },
  {
   "cell_type": "markdown",
   "metadata": {},
   "source": [
    "These radii were chosen essentially randomly, and have no physical meaning or importance, we merely wish to demonstrate the different ways you might want to define sets of annular boundary radii. Now that we've set those up, all we need to do is pass them into the `spectrum_set()` function, and they will be generated. This function will always generate a spectrum between the first and last entries for each set of radii as well, as it is often convenient to normalise values measured from these spectra by a global value. \n",
    "\n",
    "The background spectrum defined for the set of annular spectra is generated between `back_inn_rad_factor`\\*outermost-radius and `back_out_rad_factor`\\*outermost radius - those factors were set when you initially defined the source or sample:"
   ]
  },
  {
   "cell_type": "code",
   "execution_count": null,
   "metadata": {},
   "outputs": [],
   "source": [
    "spectrum_set(demo_smp, radii=ann_rads)"
   ]
  },
  {
   "cell_type": "markdown",
   "metadata": {},
   "source": [
    "## Fetching annular spectra from a source"
   ]
  },
  {
   "cell_type": "markdown",
   "metadata": {},
   "source": [
    "As is the case for most XGA products, there is a specific method to retrieve annular spectra from a source object, in this case the `get_annular_spectra` method (you can find the full documentation [here](../../xga.sources.html#xga.sources.base.BaseSource.get_annular_spectra))."
   ]
  }
 ],
 "metadata": {
  "kernelspec": {
   "display_name": "Python 3",
   "language": "python",
   "name": "python3"
  },
  "language_info": {
   "codemirror_mode": {
    "name": "ipython",
    "version": 3
   },
   "file_extension": ".py",
   "mimetype": "text/x-python",
   "name": "python",
   "nbconvert_exporter": "python",
   "pygments_lexer": "ipython3",
   "version": "3.8.5"
  }
 },
 "nbformat": 4,
 "nbformat_minor": 4
}
