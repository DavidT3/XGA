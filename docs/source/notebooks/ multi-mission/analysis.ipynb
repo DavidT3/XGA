{
 "cells": [
  {
   "cell_type": "markdown",
   "metadata": {},
   "source": [
    "# Analysis\n",
    "When fitting models and acquiring astrophysical parameters of XGA sources, some considerations must be made depending on the origin of the observations. In this section we reccommend the best way to use XGA's inbuilt functions for each telescope."
   ]
  },
  {
   "cell_type": "markdown",
   "metadata": {},
   "source": [
    "## Fitting Models to Spectra\n",
    "### eROSITA\n",
    "By default all models that can be fit to spectra using XGA use simultaneous fitting. Since eROSITA's instruments are mostly identical, it is reccommended to use 'stacked_spectra=True' when using these models, as this should give a more reliable fit - especially for low exposure sources. "
   ]
  },
  {
   "cell_type": "code",
   "execution_count": null,
   "metadata": {},
   "outputs": [],
   "source": [
    "from astropy.units import Quantity\n",
    "\n",
    "from xga.sources import GalaxyCluster\n",
    "from xga.xspec import single_temp_apec"
   ]
  },
  {
   "cell_type": "code",
   "execution_count": null,
   "metadata": {},
   "outputs": [],
   "source": [
    "src = GalaxyCluster(187.70527, 12.39243, 0.00377, \n",
    "                    name='Virgo', r500=Quantity(500, 'kpc'),\n",
    "                    telescope='erosita',\n",
    "                    search_distance={'erosita': Quantity(3, 'deg')}\n",
    "                    )"
   ]
  },
  {
   "cell_type": "code",
   "execution_count": null,
   "metadata": {},
   "outputs": [],
   "source": [
    "single_temp_apec(src, 'r500', stacked_spectra=True)"
   ]
  },
  {
   "cell_type": "markdown",
   "metadata": {},
   "source": [
    "## Retrieving Fit Results"
   ]
  },
  {
   "cell_type": "markdown",
   "metadata": {},
   "source": [
    "When retrieving the results of a fit, a telescope must be specified."
   ]
  },
  {
   "cell_type": "code",
   "execution_count": null,
   "metadata": {},
   "outputs": [],
   "source": [
    "src.get_results('r500', 'erosita', 'constant*tbabs*apec', par='kT')"
   ]
  },
  {
   "cell_type": "code",
   "execution_count": null,
   "metadata": {},
   "outputs": [],
   "source": [
    "# Similarly for the get_ methods, a telescope must be specified.\n",
    "src.get_temperature('r500', 'erosita')"
   ]
  }
 ],
 "metadata": {
  "kernelspec": {
   "display_name": "Python 3.9.13 ('base')",
   "language": "python",
   "name": "python3"
  },
  "language_info": {
   "name": "python",
   "version": "3.9.13"
  },
  "orig_nbformat": 4,
  "vscode": {
   "interpreter": {
    "hash": "eda4c904454499d28d11a238fc843e599c485f79e5beab49a4e5154c51d42694"
   }
  }
 },
 "nbformat": 4,
 "nbformat_minor": 2
}
