{
 "cells": [
  {
   "cell_type": "markdown",
   "id": "2127f69d",
   "metadata": {},
   "source": [
    "# Galaxy Cluster Hydrostatic Mass Models"
   ]
  },
  {
   "cell_type": "markdown",
   "id": "1d0e5d99",
   "metadata": {},
   "source": [
    "This notebook is one of a series where important derivations are presented and explained. In this we derive analytical hydrostatic mass models from common temperature and density profile models used for galaxy clusters."
   ]
  },
  {
   "cell_type": "markdown",
   "id": "781f78e9",
   "metadata": {},
   "source": [
    "## Import Statements"
   ]
  },
  {
   "cell_type": "code",
   "execution_count": 1,
   "id": "90382133",
   "metadata": {},
   "outputs": [],
   "source": [
    "from sympy import symbols, simplify, sqrt, diff, solve, latex\n",
    "import numpy as np"
   ]
  },
  {
   "cell_type": "markdown",
   "id": "b979dfc6",
   "metadata": {},
   "source": [
    "## Defining gas temperature models"
   ]
  },
  {
   "cell_type": "markdown",
   "id": "f5ad4fff",
   "metadata": {},
   "source": [
    "Define the full Vikhlinin temperature model, as well as a simplified one presented by Ghirardini in 2019. We also use SymPy to derive the analytical derivatives with radius, which is also necessary for the calculation of hydrostatic mass."
   ]
  },
  {
   "cell_type": "markdown",
   "id": "c91e16fe",
   "metadata": {},
   "source": [
    "### Full Vikhlinin temperature model"
   ]
  },
  {
   "cell_type": "code",
   "execution_count": 15,
   "id": "66da5921",
   "metadata": {},
   "outputs": [],
   "source": [
    "r, r_cool, a_cool, t_min, t_0, r_tran, a, b, c = symbols('r r_cool a_cool t_min t_0 r_tran a b c')"
   ]
  },
  {
   "cell_type": "code",
   "execution_count": 16,
   "id": "6facd772",
   "metadata": {},
   "outputs": [
    {
     "data": {
      "text/latex": [
       "$\\displaystyle \\frac{t_{0} \\left(\\frac{r}{r_{tran}}\\right)^{- a} \\left(\\left(\\frac{r}{r_{cool}}\\right)^{a_{cool}} + \\frac{t_{min}}{t_{0}}\\right) \\left(\\left(\\frac{r}{r_{tran}}\\right)^{b} + 1\\right)^{- \\frac{c}{b}}}{\\left(\\frac{r}{r_{cool}}\\right)^{a_{cool}} + 1}$"
      ],
      "text/plain": [
       "t_0*(r/r_tran)**(-a)*((r/r_cool)**a_cool + t_min/t_0)*((r/r_tran)**b + 1)**(-c/b)/((r/r_cool)**a_cool + 1)"
      ]
     },
     "execution_count": 16,
     "metadata": {},
     "output_type": "execute_result"
    }
   ],
   "source": [
    "power_rad_ratio = (r / r_cool)**a_cool\n",
    "t_cool = (power_rad_ratio + (t_min / t_0)) / (power_rad_ratio + 1)\n",
    "\n",
    "rad_ratio = r / r_tran\n",
    "t_outer = rad_ratio**(-a) / (1 + rad_ratio**b)**(c / b)\n",
    "full_vikh_temp = t_0 * t_cool * t_outer\n",
    "full_vikh_temp"
   ]
  },
  {
   "cell_type": "code",
   "execution_count": 18,
   "id": "57c07352",
   "metadata": {},
   "outputs": [
    {
     "data": {
      "text/latex": [
       "$\\displaystyle \\frac{\\left(\\frac{r}{r_{tran}}\\right)^{- 3 a} \\left(\\left(\\frac{r}{r_{tran}}\\right)^{b} + 1\\right)^{- \\frac{b + 3 c}{b}} \\left(- a_{cool} \\left(\\frac{r}{r_{cool}}\\right)^{a_{cool}} \\left(\\frac{r}{r_{tran}}\\right)^{2 a} \\left(\\left(\\frac{r}{r_{tran}}\\right)^{b} + 1\\right)^{\\frac{b + 2 c}{b}} \\left(t_{0} \\left(\\frac{r}{r_{cool}}\\right)^{a_{cool}} + t_{min}\\right) - c \\left(\\frac{r}{r_{tran}}\\right)^{2 a + b} \\left(\\left(\\frac{r}{r_{cool}}\\right)^{a_{cool}} + 1\\right) \\left(\\left(\\frac{r}{r_{tran}}\\right)^{b} + 1\\right)^{\\frac{2 c}{b}} \\left(t_{0} \\left(\\frac{r}{r_{cool}}\\right)^{a_{cool}} + t_{min}\\right) + \\left(\\frac{r}{r_{tran}}\\right)^{2 a} \\left(- a \\left(t_{0} \\left(\\frac{r}{r_{cool}}\\right)^{a_{cool}} + t_{min}\\right) + a_{cool} t_{0} \\left(\\frac{r}{r_{cool}}\\right)^{a_{cool}}\\right) \\left(\\left(\\frac{r}{r_{cool}}\\right)^{a_{cool}} + 1\\right) \\left(\\left(\\frac{r}{r_{tran}}\\right)^{b} + 1\\right)^{\\frac{b + 2 c}{b}}\\right)}{r \\left(\\left(\\frac{r}{r_{cool}}\\right)^{a_{cool}} + 1\\right)^{2}}$"
      ],
      "text/plain": [
       "(r/r_tran)**(-3*a)*((r/r_tran)**b + 1)**(-(b + 3*c)/b)*(-a_cool*(r/r_cool)**a_cool*(r/r_tran)**(2*a)*((r/r_tran)**b + 1)**((b + 2*c)/b)*(t_0*(r/r_cool)**a_cool + t_min) - c*(r/r_tran)**(2*a + b)*((r/r_cool)**a_cool + 1)*((r/r_tran)**b + 1)**(2*c/b)*(t_0*(r/r_cool)**a_cool + t_min) + (r/r_tran)**(2*a)*(-a*(t_0*(r/r_cool)**a_cool + t_min) + a_cool*t_0*(r/r_cool)**a_cool)*((r/r_cool)**a_cool + 1)*((r/r_tran)**b + 1)**((b + 2*c)/b))/(r*((r/r_cool)**a_cool + 1)**2)"
      ]
     },
     "execution_count": 18,
     "metadata": {},
     "output_type": "execute_result"
    }
   ],
   "source": [
    "full_vikh_temp_diff = simplify(diff(full_vikh_temp, r))\n",
    "full_vikh_temp_diff"
   ]
  },
  {
   "cell_type": "markdown",
   "id": "e5b7dbd2",
   "metadata": {},
   "source": [
    "### Simplified Vikhlinin temperature model"
   ]
  },
  {
   "cell_type": "code",
   "execution_count": 22,
   "id": "5fb59491",
   "metadata": {},
   "outputs": [
    {
     "data": {
      "text/latex": [
       "$\\displaystyle \\frac{t_{0} \\left(\\left(\\frac{r}{r_{cool}}\\right)^{a_{cool}} + \\frac{t_{min}}{t_{0}}\\right) \\left(\\frac{r^{2}}{r_{tran}^{2}} + 1\\right)^{- \\frac{c}{2}}}{\\left(\\frac{r}{r_{cool}}\\right)^{a_{cool}} + 1}$"
      ],
      "text/plain": [
       "t_0*((r/r_cool)**a_cool + t_min/t_0)*(r**2/r_tran**2 + 1)**(-c/2)/((r/r_cool)**a_cool + 1)"
      ]
     },
     "execution_count": 22,
     "metadata": {},
     "output_type": "execute_result"
    }
   ],
   "source": [
    "cool_expr = ((t_min / t_0) + (r / r_cool)**a_cool) / (1 + (r / r_cool)**a_cool)\n",
    "out_expr = 1 / ((1 + (r / r_tran)**2)**(c / 2))\n",
    "simp_vikh_temp = t_0 * cool_expr * out_expr\n",
    "simp_vikh_temp"
   ]
  },
  {
   "cell_type": "code",
   "execution_count": 23,
   "id": "fe3fea2b",
   "metadata": {},
   "outputs": [
    {
     "data": {
      "text/latex": [
       "$\\displaystyle \\frac{\\left(\\frac{r^{2} + r_{tran}^{2}}{r_{tran}^{2}}\\right)^{- \\frac{c}{2}} \\left(a_{cool} t_{0} \\left(\\frac{r}{r_{cool}}\\right)^{a_{cool}} \\left(r^{2} + r_{tran}^{2}\\right) \\left(\\left(\\frac{r}{r_{cool}}\\right)^{a_{cool}} + 1\\right) - a_{cool} \\left(\\frac{r}{r_{cool}}\\right)^{a_{cool}} \\left(r^{2} + r_{tran}^{2}\\right) \\left(t_{0} \\left(\\frac{r}{r_{cool}}\\right)^{a_{cool}} + t_{min}\\right) - c r^{2} \\left(\\left(\\frac{r}{r_{cool}}\\right)^{a_{cool}} + 1\\right) \\left(t_{0} \\left(\\frac{r}{r_{cool}}\\right)^{a_{cool}} + t_{min}\\right)\\right)}{r \\left(r^{2} + r_{tran}^{2}\\right) \\left(\\left(\\frac{r}{r_{cool}}\\right)^{a_{cool}} + 1\\right)^{2}}$"
      ],
      "text/plain": [
       "((r**2 + r_tran**2)/r_tran**2)**(-c/2)*(a_cool*t_0*(r/r_cool)**a_cool*(r**2 + r_tran**2)*((r/r_cool)**a_cool + 1) - a_cool*(r/r_cool)**a_cool*(r**2 + r_tran**2)*(t_0*(r/r_cool)**a_cool + t_min) - c*r**2*((r/r_cool)**a_cool + 1)*(t_0*(r/r_cool)**a_cool + t_min))/(r*(r**2 + r_tran**2)*((r/r_cool)**a_cool + 1)**2)"
      ]
     },
     "execution_count": 23,
     "metadata": {},
     "output_type": "execute_result"
    }
   ],
   "source": [
    "simp_vikh_temp_diff = simplify(diff(simp_vikh_temp, r))\n",
    "simp_vikh_temp_diff"
   ]
  },
  {
   "cell_type": "markdown",
   "id": "aacb94f8",
   "metadata": {},
   "source": [
    "## Defining gas density models"
   ]
  },
  {
   "cell_type": "markdown",
   "id": "e4f5eb90",
   "metadata": {},
   "source": [
    "Define the full Vikhlinin density model, as well as a simplified one presented by Ghirardini in 2019. We also use SymPy to derive the analytical derivatives with radius, which is also necessary for the calculation of hydrostatic mass."
   ]
  },
  {
   "cell_type": "markdown",
   "id": "c7bb4573",
   "metadata": {},
   "source": [
    "### Full Vikhlinin density model"
   ]
  },
  {
   "cell_type": "code",
   "execution_count": 5,
   "id": "4feb402f",
   "metadata": {},
   "outputs": [],
   "source": [
    "r_c1, r_c2, r_s, alpha, beta_1, gamma, epsilon, gamma, beta_2, N_1, N_2 = \\\n",
    "symbols('r_c1 r_c2 r_s alpha beta_1 gamma epsilon gamma beta_2 N_1 N_2')"
   ]
  },
  {
   "cell_type": "code",
   "execution_count": 8,
   "id": "6e73e320",
   "metadata": {},
   "outputs": [
    {
     "data": {
      "text/latex": [
       "$\\displaystyle \\sqrt{N_{1}^{2} \\left(\\frac{r}{r_{c1}}\\right)^{- \\alpha} \\left(\\left(\\frac{r}{r_{s}}\\right)^{\\gamma} + 1\\right)^{- \\frac{\\epsilon}{\\gamma}} \\left(\\frac{r^{2}}{r_{c1}^{2}} + 1\\right)^{\\frac{\\alpha}{2} - 3 \\beta_{1}} + N_{2}^{2} \\left(\\frac{r^{2}}{r_{c2}^{2}} + 1\\right)^{- 3 \\beta_{2}}}$"
      ],
      "text/plain": [
       "sqrt(N_1**2*(r/r_c1)**(-alpha)*((r/r_s)**gamma + 1)**(-epsilon/gamma)*(r**2/r_c1**2 + 1)**(alpha/2 - 3*beta_1) + N_2**2*(r**2/r_c2**2 + 1)**(-3*beta_2))"
      ]
     },
     "execution_count": 8,
     "metadata": {},
     "output_type": "execute_result"
    }
   ],
   "source": [
    "rc1_rat = r / r_c1\n",
    "rc2_rat = r / r_c2\n",
    "rs_rat = r / r_s\n",
    "\n",
    "first_term = rc1_rat**(-alpha) / ((1 + rc1_rat**2)**((3 * beta_1) - (alpha / 2)))\n",
    "second_term = 1 / ((1 + rs_rat**gamma)**(epsilon / gamma))\n",
    "additive_term = 1 / ((1 + rc2_rat**2)**(3 * beta_2))\n",
    "\n",
    "full_vikh_dens = sqrt((np.power(N_1, 2) * first_term * second_term) + (np.power(N_2, 2) * additive_term))\n",
    "full_vikh_dens"
   ]
  },
  {
   "cell_type": "code",
   "execution_count": 9,
   "id": "50a8bf46",
   "metadata": {},
   "outputs": [
    {
     "data": {
      "text/latex": [
       "$\\displaystyle \\frac{\\left(\\frac{r}{r_{c1}}\\right)^{- \\alpha} \\left(\\frac{r^{2} + r_{c2}^{2}}{r_{c2}^{2}}\\right)^{- 3 \\beta_{2}} \\left(\\left(\\frac{r}{r_{s}}\\right)^{\\gamma} + 1\\right)^{- \\frac{3 \\epsilon + \\gamma}{\\gamma}} \\left(- N_{1}^{2} \\alpha \\left(\\frac{r^{2} + r_{c1}^{2}}{r_{c1}^{2}}\\right)^{\\frac{\\alpha}{2} - 3 \\beta_{1}} \\left(\\frac{r^{2} + r_{c2}^{2}}{r_{c2}^{2}}\\right)^{3 \\beta_{2}} \\left(r^{2} + r_{c1}^{2}\\right) \\left(r^{2} + r_{c2}^{2}\\right) \\left(\\left(\\frac{r}{r_{s}}\\right)^{\\gamma} + 1\\right)^{\\frac{2 \\epsilon + \\gamma}{\\gamma}} - N_{1}^{2} \\epsilon \\left(\\frac{r}{r_{s}}\\right)^{\\gamma} \\left(\\frac{r^{2} + r_{c1}^{2}}{r_{c1}^{2}}\\right)^{\\frac{\\alpha}{2} - 3 \\beta_{1}} \\left(\\frac{r^{2} + r_{c2}^{2}}{r_{c2}^{2}}\\right)^{3 \\beta_{2}} \\left(r^{2} + r_{c1}^{2}\\right) \\left(r^{2} + r_{c2}^{2}\\right) \\left(\\left(\\frac{r}{r_{s}}\\right)^{\\gamma} + 1\\right)^{\\frac{2 \\epsilon}{\\gamma}} + N_{1}^{2} r^{2} \\left(\\frac{r^{2} + r_{c1}^{2}}{r_{c1}^{2}}\\right)^{\\frac{\\alpha}{2} - 3 \\beta_{1}} \\left(\\frac{r^{2} + r_{c2}^{2}}{r_{c2}^{2}}\\right)^{3 \\beta_{2}} \\left(\\alpha - 6 \\beta_{1}\\right) \\left(r^{2} + r_{c2}^{2}\\right) \\left(\\left(\\frac{r}{r_{s}}\\right)^{\\gamma} + 1\\right)^{\\frac{2 \\epsilon + \\gamma}{\\gamma}} - 6 N_{2}^{2} \\beta_{2} r^{2} \\left(\\frac{r}{r_{c1}}\\right)^{\\alpha} \\left(r^{2} + r_{c1}^{2}\\right) \\left(\\left(\\frac{r}{r_{s}}\\right)^{\\gamma} + 1\\right)^{\\frac{3 \\epsilon + \\gamma}{\\gamma}}\\right)}{2 r \\sqrt{\\left(\\frac{r}{r_{c1}}\\right)^{- \\alpha} \\left(\\frac{r^{2} + r_{c2}^{2}}{r_{c2}^{2}}\\right)^{- 3 \\beta_{2}} \\left(\\left(\\frac{r}{r_{s}}\\right)^{\\gamma} + 1\\right)^{- \\frac{\\epsilon}{\\gamma}} \\left(N_{1}^{2} \\left(\\frac{r^{2} + r_{c1}^{2}}{r_{c1}^{2}}\\right)^{\\frac{\\alpha}{2} - 3 \\beta_{1}} \\left(\\frac{r^{2} + r_{c2}^{2}}{r_{c2}^{2}}\\right)^{3 \\beta_{2}} + N_{2}^{2} \\left(\\frac{r}{r_{c1}}\\right)^{\\alpha} \\left(\\left(\\frac{r}{r_{s}}\\right)^{\\gamma} + 1\\right)^{\\frac{\\epsilon}{\\gamma}}\\right)} \\left(r^{2} + r_{c1}^{2}\\right) \\left(r^{2} + r_{c2}^{2}\\right)}$"
      ],
      "text/plain": [
       "(r/r_c1)**(-alpha)*((r**2 + r_c2**2)/r_c2**2)**(-3*beta_2)*((r/r_s)**gamma + 1)**(-(3*epsilon + gamma)/gamma)*(-N_1**2*alpha*((r**2 + r_c1**2)/r_c1**2)**(alpha/2 - 3*beta_1)*((r**2 + r_c2**2)/r_c2**2)**(3*beta_2)*(r**2 + r_c1**2)*(r**2 + r_c2**2)*((r/r_s)**gamma + 1)**((2*epsilon + gamma)/gamma) - N_1**2*epsilon*(r/r_s)**gamma*((r**2 + r_c1**2)/r_c1**2)**(alpha/2 - 3*beta_1)*((r**2 + r_c2**2)/r_c2**2)**(3*beta_2)*(r**2 + r_c1**2)*(r**2 + r_c2**2)*((r/r_s)**gamma + 1)**(2*epsilon/gamma) + N_1**2*r**2*((r**2 + r_c1**2)/r_c1**2)**(alpha/2 - 3*beta_1)*((r**2 + r_c2**2)/r_c2**2)**(3*beta_2)*(alpha - 6*beta_1)*(r**2 + r_c2**2)*((r/r_s)**gamma + 1)**((2*epsilon + gamma)/gamma) - 6*N_2**2*beta_2*r**2*(r/r_c1)**alpha*(r**2 + r_c1**2)*((r/r_s)**gamma + 1)**((3*epsilon + gamma)/gamma))/(2*r*sqrt((r/r_c1)**(-alpha)*((r**2 + r_c2**2)/r_c2**2)**(-3*beta_2)*((r/r_s)**gamma + 1)**(-epsilon/gamma)*(N_1**2*((r**2 + r_c1**2)/r_c1**2)**(alpha/2 - 3*beta_1)*((r**2 + r_c2**2)/r_c2**2)**(3*beta_2) + N_2**2*(r/r_c1)**alpha*((r/r_s)**gamma + 1)**(epsilon/gamma)))*(r**2 + r_c1**2)*(r**2 + r_c2**2))"
      ]
     },
     "execution_count": 9,
     "metadata": {},
     "output_type": "execute_result"
    }
   ],
   "source": [
    "full_vikh_dens_diff = simplify(diff(full_vikh_dens, r))\n",
    "full_vikh_dens_diff"
   ]
  },
  {
   "cell_type": "markdown",
   "id": "e99ef0fb",
   "metadata": {},
   "source": [
    "### Simplified Vikhlinin density model"
   ]
  },
  {
   "cell_type": "code",
   "execution_count": 24,
   "id": "5f9682ed",
   "metadata": {},
   "outputs": [],
   "source": [
    "r_c, beta, N = symbols('r_c beta N')"
   ]
  },
  {
   "cell_type": "code",
   "execution_count": 28,
   "id": "04eae3a1",
   "metadata": {},
   "outputs": [
    {
     "data": {
      "text/latex": [
       "$\\displaystyle N \\sqrt{\\left(\\frac{r}{r_{c}}\\right)^{- \\alpha} \\left(\\frac{r^{2}}{r_{c}^{2}} + 1\\right)^{\\frac{\\alpha}{2} - 3 \\beta} \\left(\\frac{r^{3}}{r_{s}^{3}} + 1\\right)^{- \\frac{\\epsilon}{3}}}$"
      ],
      "text/plain": [
       "N*sqrt((r/r_c)**(-alpha)*(r**2/r_c**2 + 1)**(alpha/2 - 3*beta)*(r**3/r_s**3 + 1)**(-epsilon/3))"
      ]
     },
     "execution_count": 28,
     "metadata": {},
     "output_type": "execute_result"
    }
   ],
   "source": [
    "rc_rat = r / r_c\n",
    "rs_rat = r / r_s\n",
    "\n",
    "first_term = rc_rat**(-alpha) / ((1+rc_rat**2)**((3 * beta) - (alpha / 2)))\n",
    "second_term = 1 / ((1 + rs_rat**3)**(epsilon / 3))\n",
    "simp_vikh_dens = N * sqrt(first_term * second_term)\n",
    "simp_vikh_dens"
   ]
  },
  {
   "cell_type": "code",
   "execution_count": 29,
   "id": "d6b1b621",
   "metadata": {},
   "outputs": [
    {
     "data": {
      "text/latex": [
       "$\\displaystyle - \\frac{N \\sqrt{\\left(\\frac{r}{r_{c}}\\right)^{- \\alpha} \\left(\\frac{r^{2} + r_{c}^{2}}{r_{c}^{2}}\\right)^{\\frac{\\alpha}{2} - 3 \\beta} \\left(\\frac{r^{3} + r_{s}^{3}}{r_{s}^{3}}\\right)^{- \\frac{\\epsilon}{3}}} \\left(\\alpha r^{3} r_{c}^{2} + \\alpha r_{c}^{2} r_{s}^{3} + 6 \\beta r^{5} + 6 \\beta r^{2} r_{s}^{3} + \\epsilon r^{5} + \\epsilon r^{3} r_{c}^{2}\\right)}{2 r \\left(r^{5} + r^{3} r_{c}^{2} + r^{2} r_{s}^{3} + r_{c}^{2} r_{s}^{3}\\right)}$"
      ],
      "text/plain": [
       "-N*sqrt((r/r_c)**(-alpha)*((r**2 + r_c**2)/r_c**2)**(alpha/2 - 3*beta)*((r**3 + r_s**3)/r_s**3)**(-epsilon/3))*(alpha*r**3*r_c**2 + alpha*r_c**2*r_s**3 + 6*beta*r**5 + 6*beta*r**2*r_s**3 + epsilon*r**5 + epsilon*r**3*r_c**2)/(2*r*(r**5 + r**3*r_c**2 + r**2*r_s**3 + r_c**2*r_s**3))"
      ]
     },
     "execution_count": 29,
     "metadata": {},
     "output_type": "execute_result"
    }
   ],
   "source": [
    "simp_vikh_dens_diff = simplify(diff(simp_vikh_dens, r))\n",
    "simp_vikh_dens_diff"
   ]
  },
  {
   "cell_type": "markdown",
   "id": "cfc7340e",
   "metadata": {},
   "source": [
    "## Defining hydrostatic mass models"
   ]
  },
  {
   "cell_type": "markdown",
   "id": "d8b62a56",
   "metadata": {},
   "source": [
    "Using a slightly different form of the hydrostatic mass equation (the derivation is altered slightly so there are no dln F / dr, just dF/dr terms), we substitute in temperature and density models (as well as their derivatives) to write the analytical mass model that results from those models.\n",
    "\n",
    "We do this for both the full Vikhlinin models and the simplified versions, we also show an analytical first derivative for the simplified Vikhlinin mass model."
   ]
  },
  {
   "cell_type": "code",
   "execution_count": 10,
   "id": "bfa04414",
   "metadata": {},
   "outputs": [],
   "source": [
    "k_B, mu, m_u, G = symbols('k_B mu m_u G')"
   ]
  },
  {
   "cell_type": "markdown",
   "id": "4d6cd383",
   "metadata": {},
   "source": [
    "### Full Vikhlinin hydrostatic mass model"
   ]
  },
  {
   "cell_type": "code",
   "execution_count": 34,
   "id": "57acaf66",
   "metadata": {},
   "outputs": [
    {
     "data": {
      "text/latex": [
       "$\\displaystyle - \\frac{k_{B} r^{2} \\left(\\frac{t_{0} \\left(\\frac{r}{r_{c1}}\\right)^{- \\alpha} \\left(\\frac{r}{r_{tran}}\\right)^{- a} \\left(\\frac{r^{2} + r_{c2}^{2}}{r_{c2}^{2}}\\right)^{- 3 \\beta_{2}} \\left(\\left(\\frac{r}{r_{cool}}\\right)^{a_{cool}} + \\frac{t_{min}}{t_{0}}\\right) \\left(\\left(\\frac{r}{r_{s}}\\right)^{\\gamma} + 1\\right)^{- \\frac{3 \\epsilon + \\gamma}{\\gamma}} \\left(\\left(\\frac{r}{r_{tran}}\\right)^{b} + 1\\right)^{- \\frac{c}{b}} \\left(- N_{1}^{2} \\alpha \\left(\\frac{r^{2} + r_{c1}^{2}}{r_{c1}^{2}}\\right)^{\\frac{\\alpha}{2} - 3 \\beta_{1}} \\left(\\frac{r^{2} + r_{c2}^{2}}{r_{c2}^{2}}\\right)^{3 \\beta_{2}} \\left(r^{2} + r_{c1}^{2}\\right) \\left(r^{2} + r_{c2}^{2}\\right) \\left(\\left(\\frac{r}{r_{s}}\\right)^{\\gamma} + 1\\right)^{\\frac{2 \\epsilon + \\gamma}{\\gamma}} - N_{1}^{2} \\epsilon \\left(\\frac{r}{r_{s}}\\right)^{\\gamma} \\left(\\frac{r^{2} + r_{c1}^{2}}{r_{c1}^{2}}\\right)^{\\frac{\\alpha}{2} - 3 \\beta_{1}} \\left(\\frac{r^{2} + r_{c2}^{2}}{r_{c2}^{2}}\\right)^{3 \\beta_{2}} \\left(r^{2} + r_{c1}^{2}\\right) \\left(r^{2} + r_{c2}^{2}\\right) \\left(\\left(\\frac{r}{r_{s}}\\right)^{\\gamma} + 1\\right)^{\\frac{2 \\epsilon}{\\gamma}} + N_{1}^{2} r^{2} \\left(\\frac{r^{2} + r_{c1}^{2}}{r_{c1}^{2}}\\right)^{\\frac{\\alpha}{2} - 3 \\beta_{1}} \\left(\\frac{r^{2} + r_{c2}^{2}}{r_{c2}^{2}}\\right)^{3 \\beta_{2}} \\left(\\alpha - 6 \\beta_{1}\\right) \\left(r^{2} + r_{c2}^{2}\\right) \\left(\\left(\\frac{r}{r_{s}}\\right)^{\\gamma} + 1\\right)^{\\frac{2 \\epsilon + \\gamma}{\\gamma}} - 6 N_{2}^{2} \\beta_{2} r^{2} \\left(\\frac{r}{r_{c1}}\\right)^{\\alpha} \\left(r^{2} + r_{c1}^{2}\\right) \\left(\\left(\\frac{r}{r_{s}}\\right)^{\\gamma} + 1\\right)^{\\frac{3 \\epsilon + \\gamma}{\\gamma}}\\right)}{2 r \\sqrt{\\left(\\frac{r}{r_{c1}}\\right)^{- \\alpha} \\left(\\frac{r^{2} + r_{c2}^{2}}{r_{c2}^{2}}\\right)^{- 3 \\beta_{2}} \\left(\\left(\\frac{r}{r_{s}}\\right)^{\\gamma} + 1\\right)^{- \\frac{\\epsilon}{\\gamma}} \\left(N_{1}^{2} \\left(\\frac{r^{2} + r_{c1}^{2}}{r_{c1}^{2}}\\right)^{\\frac{\\alpha}{2} - 3 \\beta_{1}} \\left(\\frac{r^{2} + r_{c2}^{2}}{r_{c2}^{2}}\\right)^{3 \\beta_{2}} + N_{2}^{2} \\left(\\frac{r}{r_{c1}}\\right)^{\\alpha} \\left(\\left(\\frac{r}{r_{s}}\\right)^{\\gamma} + 1\\right)^{\\frac{\\epsilon}{\\gamma}}\\right)} \\left(r^{2} + r_{c1}^{2}\\right) \\left(r^{2} + r_{c2}^{2}\\right) \\left(\\left(\\frac{r}{r_{cool}}\\right)^{a_{cool}} + 1\\right)} + \\frac{\\left(\\frac{r}{r_{tran}}\\right)^{- 3 a} \\left(\\left(\\frac{r}{r_{tran}}\\right)^{b} + 1\\right)^{- \\frac{b + 3 c}{b}} \\sqrt{N_{1}^{2} \\left(\\frac{r}{r_{c1}}\\right)^{- \\alpha} \\left(\\left(\\frac{r}{r_{s}}\\right)^{\\gamma} + 1\\right)^{- \\frac{\\epsilon}{\\gamma}} \\left(\\frac{r^{2}}{r_{c1}^{2}} + 1\\right)^{\\frac{\\alpha}{2} - 3 \\beta_{1}} + N_{2}^{2} \\left(\\frac{r^{2}}{r_{c2}^{2}} + 1\\right)^{- 3 \\beta_{2}}} \\left(- a_{cool} \\left(\\frac{r}{r_{cool}}\\right)^{a_{cool}} \\left(\\frac{r}{r_{tran}}\\right)^{2 a} \\left(\\left(\\frac{r}{r_{tran}}\\right)^{b} + 1\\right)^{\\frac{b + 2 c}{b}} \\left(t_{0} \\left(\\frac{r}{r_{cool}}\\right)^{a_{cool}} + t_{min}\\right) - c \\left(\\frac{r}{r_{tran}}\\right)^{2 a + b} \\left(\\left(\\frac{r}{r_{cool}}\\right)^{a_{cool}} + 1\\right) \\left(\\left(\\frac{r}{r_{tran}}\\right)^{b} + 1\\right)^{\\frac{2 c}{b}} \\left(t_{0} \\left(\\frac{r}{r_{cool}}\\right)^{a_{cool}} + t_{min}\\right) + \\left(\\frac{r}{r_{tran}}\\right)^{2 a} \\left(- a \\left(t_{0} \\left(\\frac{r}{r_{cool}}\\right)^{a_{cool}} + t_{min}\\right) + a_{cool} t_{0} \\left(\\frac{r}{r_{cool}}\\right)^{a_{cool}}\\right) \\left(\\left(\\frac{r}{r_{cool}}\\right)^{a_{cool}} + 1\\right) \\left(\\left(\\frac{r}{r_{tran}}\\right)^{b} + 1\\right)^{\\frac{b + 2 c}{b}}\\right)}{r \\left(\\left(\\frac{r}{r_{cool}}\\right)^{a_{cool}} + 1\\right)^{2}}\\right)}{G m_{u} \\mu \\sqrt{N_{1}^{2} \\left(\\frac{r}{r_{c1}}\\right)^{- \\alpha} \\left(\\left(\\frac{r}{r_{s}}\\right)^{\\gamma} + 1\\right)^{- \\frac{\\epsilon}{\\gamma}} \\left(\\frac{r^{2}}{r_{c1}^{2}} + 1\\right)^{\\frac{\\alpha}{2} - 3 \\beta_{1}} + N_{2}^{2} \\left(\\frac{r^{2}}{r_{c2}^{2}} + 1\\right)^{- 3 \\beta_{2}}}}$"
      ],
      "text/plain": [
       "-k_B*r**2*(t_0*(r/r_c1)**(-alpha)*(r/r_tran)**(-a)*((r**2 + r_c2**2)/r_c2**2)**(-3*beta_2)*((r/r_cool)**a_cool + t_min/t_0)*((r/r_s)**gamma + 1)**(-(3*epsilon + gamma)/gamma)*((r/r_tran)**b + 1)**(-c/b)*(-N_1**2*alpha*((r**2 + r_c1**2)/r_c1**2)**(alpha/2 - 3*beta_1)*((r**2 + r_c2**2)/r_c2**2)**(3*beta_2)*(r**2 + r_c1**2)*(r**2 + r_c2**2)*((r/r_s)**gamma + 1)**((2*epsilon + gamma)/gamma) - N_1**2*epsilon*(r/r_s)**gamma*((r**2 + r_c1**2)/r_c1**2)**(alpha/2 - 3*beta_1)*((r**2 + r_c2**2)/r_c2**2)**(3*beta_2)*(r**2 + r_c1**2)*(r**2 + r_c2**2)*((r/r_s)**gamma + 1)**(2*epsilon/gamma) + N_1**2*r**2*((r**2 + r_c1**2)/r_c1**2)**(alpha/2 - 3*beta_1)*((r**2 + r_c2**2)/r_c2**2)**(3*beta_2)*(alpha - 6*beta_1)*(r**2 + r_c2**2)*((r/r_s)**gamma + 1)**((2*epsilon + gamma)/gamma) - 6*N_2**2*beta_2*r**2*(r/r_c1)**alpha*(r**2 + r_c1**2)*((r/r_s)**gamma + 1)**((3*epsilon + gamma)/gamma))/(2*r*sqrt((r/r_c1)**(-alpha)*((r**2 + r_c2**2)/r_c2**2)**(-3*beta_2)*((r/r_s)**gamma + 1)**(-epsilon/gamma)*(N_1**2*((r**2 + r_c1**2)/r_c1**2)**(alpha/2 - 3*beta_1)*((r**2 + r_c2**2)/r_c2**2)**(3*beta_2) + N_2**2*(r/r_c1)**alpha*((r/r_s)**gamma + 1)**(epsilon/gamma)))*(r**2 + r_c1**2)*(r**2 + r_c2**2)*((r/r_cool)**a_cool + 1)) + (r/r_tran)**(-3*a)*((r/r_tran)**b + 1)**(-(b + 3*c)/b)*sqrt(N_1**2*(r/r_c1)**(-alpha)*((r/r_s)**gamma + 1)**(-epsilon/gamma)*(r**2/r_c1**2 + 1)**(alpha/2 - 3*beta_1) + N_2**2*(r**2/r_c2**2 + 1)**(-3*beta_2))*(-a_cool*(r/r_cool)**a_cool*(r/r_tran)**(2*a)*((r/r_tran)**b + 1)**((b + 2*c)/b)*(t_0*(r/r_cool)**a_cool + t_min) - c*(r/r_tran)**(2*a + b)*((r/r_cool)**a_cool + 1)*((r/r_tran)**b + 1)**(2*c/b)*(t_0*(r/r_cool)**a_cool + t_min) + (r/r_tran)**(2*a)*(-a*(t_0*(r/r_cool)**a_cool + t_min) + a_cool*t_0*(r/r_cool)**a_cool)*((r/r_cool)**a_cool + 1)*((r/r_tran)**b + 1)**((b + 2*c)/b))/(r*((r/r_cool)**a_cool + 1)**2))/(G*m_u*mu*sqrt(N_1**2*(r/r_c1)**(-alpha)*((r/r_s)**gamma + 1)**(-epsilon/gamma)*(r**2/r_c1**2 + 1)**(alpha/2 - 3*beta_1) + N_2**2*(r**2/r_c2**2 + 1)**(-3*beta_2)))"
      ]
     },
     "execution_count": 34,
     "metadata": {},
     "output_type": "execute_result"
    }
   ],
   "source": [
    "full_vikh_hymm = ((-k_B*r**2) / (full_vikh_dens*mu*m_u*G))*(full_vikh_dens*full_vikh_temp_diff + \n",
    "                                                            full_vikh_temp*full_vikh_dens_diff)\n",
    "# full_vikh_hymm = simplify(full_vikh_hymm)\n",
    "full_vikh_hymm"
   ]
  },
  {
   "cell_type": "markdown",
   "id": "bd107bc5",
   "metadata": {},
   "source": [
    "### Simplified Vikhlinin hydrostatic mass model"
   ]
  },
  {
   "cell_type": "code",
   "execution_count": 35,
   "id": "d51ca89d",
   "metadata": {},
   "outputs": [
    {
     "data": {
      "text/latex": [
       "$\\displaystyle \\frac{k_{B} r \\left(\\frac{r^{2} + r_{tran}^{2}}{r_{tran}^{2}}\\right)^{- \\frac{c}{2}} \\left(\\left(r^{2} + r_{tran}^{2}\\right) \\left(\\left(\\frac{r}{r_{cool}}\\right)^{a_{cool}} + 1\\right) \\left(t_{0} \\left(\\frac{r}{r_{cool}}\\right)^{a_{cool}} + t_{min}\\right) \\left(\\alpha r^{3} r_{c}^{2} + \\alpha r_{c}^{2} r_{s}^{3} + 6 \\beta r^{5} + 6 \\beta r^{2} r_{s}^{3} + \\epsilon r^{5} + \\epsilon r^{3} r_{c}^{2}\\right) + 2 \\left(- a_{cool} t_{0} \\left(\\frac{r}{r_{cool}}\\right)^{a_{cool}} \\left(r^{2} + r_{tran}^{2}\\right) \\left(\\left(\\frac{r}{r_{cool}}\\right)^{a_{cool}} + 1\\right) + a_{cool} \\left(\\frac{r}{r_{cool}}\\right)^{a_{cool}} \\left(r^{2} + r_{tran}^{2}\\right) \\left(t_{0} \\left(\\frac{r}{r_{cool}}\\right)^{a_{cool}} + t_{min}\\right) + c r^{2} \\left(\\left(\\frac{r}{r_{cool}}\\right)^{a_{cool}} + 1\\right) \\left(t_{0} \\left(\\frac{r}{r_{cool}}\\right)^{a_{cool}} + t_{min}\\right)\\right) \\left(r^{5} + r^{3} r_{c}^{2} + r^{2} r_{s}^{3} + r_{c}^{2} r_{s}^{3}\\right)\\right)}{2 G m_{u} \\mu \\left(r^{2} + r_{tran}^{2}\\right) \\left(\\left(\\frac{r}{r_{cool}}\\right)^{a_{cool}} + 1\\right)^{2} \\left(r^{5} + r^{3} r_{c}^{2} + r^{2} r_{s}^{3} + r_{c}^{2} r_{s}^{3}\\right)}$"
      ],
      "text/plain": [
       "k_B*r*((r**2 + r_tran**2)/r_tran**2)**(-c/2)*((r**2 + r_tran**2)*((r/r_cool)**a_cool + 1)*(t_0*(r/r_cool)**a_cool + t_min)*(alpha*r**3*r_c**2 + alpha*r_c**2*r_s**3 + 6*beta*r**5 + 6*beta*r**2*r_s**3 + epsilon*r**5 + epsilon*r**3*r_c**2) + 2*(-a_cool*t_0*(r/r_cool)**a_cool*(r**2 + r_tran**2)*((r/r_cool)**a_cool + 1) + a_cool*(r/r_cool)**a_cool*(r**2 + r_tran**2)*(t_0*(r/r_cool)**a_cool + t_min) + c*r**2*((r/r_cool)**a_cool + 1)*(t_0*(r/r_cool)**a_cool + t_min))*(r**5 + r**3*r_c**2 + r**2*r_s**3 + r_c**2*r_s**3))/(2*G*m_u*mu*(r**2 + r_tran**2)*((r/r_cool)**a_cool + 1)**2*(r**5 + r**3*r_c**2 + r**2*r_s**3 + r_c**2*r_s**3))"
      ]
     },
     "execution_count": 35,
     "metadata": {},
     "output_type": "execute_result"
    }
   ],
   "source": [
    "simp_vikh_hymm = ((-k_B*r**2) / (simp_vikh_dens*mu*m_u*G))*(simp_vikh_dens*simp_vikh_temp_diff + \n",
    "                                                            simp_vikh_temp*simp_vikh_dens_diff)\n",
    "simp_vikh_hymm = simplify(simp_vikh_hymm)\n",
    "simp_vikh_hymm"
   ]
  },
  {
   "cell_type": "code",
   "execution_count": 36,
   "id": "80e43741",
   "metadata": {},
   "outputs": [
    {
     "data": {
      "text/latex": [
       "$\\displaystyle \\frac{k_{B} \\left(\\frac{r^{2} + r_{tran}^{2}}{r_{tran}^{2}}\\right)^{- \\frac{c}{2}} \\left(- 2 a_{cool} \\left(\\frac{r}{r_{cool}}\\right)^{a_{cool}} \\left(r^{2} + r_{tran}^{2}\\right) \\left(\\left(r^{2} + r_{tran}^{2}\\right) \\left(\\left(\\frac{r}{r_{cool}}\\right)^{a_{cool}} + 1\\right) \\left(t_{0} \\left(\\frac{r}{r_{cool}}\\right)^{a_{cool}} + t_{min}\\right) \\left(\\alpha r^{3} r_{c}^{2} + \\alpha r_{c}^{2} r_{s}^{3} + 6 \\beta r^{5} + 6 \\beta r^{2} r_{s}^{3} + \\epsilon r^{5} + \\epsilon r^{3} r_{c}^{2}\\right) + 2 \\left(- a_{cool} t_{0} \\left(\\frac{r}{r_{cool}}\\right)^{a_{cool}} \\left(r^{2} + r_{tran}^{2}\\right) \\left(\\left(\\frac{r}{r_{cool}}\\right)^{a_{cool}} + 1\\right) + a_{cool} \\left(\\frac{r}{r_{cool}}\\right)^{a_{cool}} \\left(r^{2} + r_{tran}^{2}\\right) \\left(t_{0} \\left(\\frac{r}{r_{cool}}\\right)^{a_{cool}} + t_{min}\\right) + c r^{2} \\left(\\left(\\frac{r}{r_{cool}}\\right)^{a_{cool}} + 1\\right) \\left(t_{0} \\left(\\frac{r}{r_{cool}}\\right)^{a_{cool}} + t_{min}\\right)\\right) \\left(r^{5} + r^{3} r_{c}^{2} + r^{2} r_{s}^{3} + r_{c}^{2} r_{s}^{3}\\right)\\right) \\left(r^{5} + r^{3} r_{c}^{2} + r^{2} r_{s}^{3} + r_{c}^{2} r_{s}^{3}\\right) - r^{2} \\left(c + 2\\right) \\left(\\left(\\frac{r}{r_{cool}}\\right)^{a_{cool}} + 1\\right) \\left(\\left(r^{2} + r_{tran}^{2}\\right) \\left(\\left(\\frac{r}{r_{cool}}\\right)^{a_{cool}} + 1\\right) \\left(t_{0} \\left(\\frac{r}{r_{cool}}\\right)^{a_{cool}} + t_{min}\\right) \\left(\\alpha r^{3} r_{c}^{2} + \\alpha r_{c}^{2} r_{s}^{3} + 6 \\beta r^{5} + 6 \\beta r^{2} r_{s}^{3} + \\epsilon r^{5} + \\epsilon r^{3} r_{c}^{2}\\right) + 2 \\left(- a_{cool} t_{0} \\left(\\frac{r}{r_{cool}}\\right)^{a_{cool}} \\left(r^{2} + r_{tran}^{2}\\right) \\left(\\left(\\frac{r}{r_{cool}}\\right)^{a_{cool}} + 1\\right) + a_{cool} \\left(\\frac{r}{r_{cool}}\\right)^{a_{cool}} \\left(r^{2} + r_{tran}^{2}\\right) \\left(t_{0} \\left(\\frac{r}{r_{cool}}\\right)^{a_{cool}} + t_{min}\\right) + c r^{2} \\left(\\left(\\frac{r}{r_{cool}}\\right)^{a_{cool}} + 1\\right) \\left(t_{0} \\left(\\frac{r}{r_{cool}}\\right)^{a_{cool}} + t_{min}\\right)\\right) \\left(r^{5} + r^{3} r_{c}^{2} + r^{2} r_{s}^{3} + r_{c}^{2} r_{s}^{3}\\right)\\right) \\left(r^{5} + r^{3} r_{c}^{2} + r^{2} r_{s}^{3} + r_{c}^{2} r_{s}^{3}\\right) - r^{2} \\left(r^{2} + r_{tran}^{2}\\right) \\left(\\left(\\frac{r}{r_{cool}}\\right)^{a_{cool}} + 1\\right) \\left(\\left(r^{2} + r_{tran}^{2}\\right) \\left(\\left(\\frac{r}{r_{cool}}\\right)^{a_{cool}} + 1\\right) \\left(t_{0} \\left(\\frac{r}{r_{cool}}\\right)^{a_{cool}} + t_{min}\\right) \\left(\\alpha r^{3} r_{c}^{2} + \\alpha r_{c}^{2} r_{s}^{3} + 6 \\beta r^{5} + 6 \\beta r^{2} r_{s}^{3} + \\epsilon r^{5} + \\epsilon r^{3} r_{c}^{2}\\right) + 2 \\left(- a_{cool} t_{0} \\left(\\frac{r}{r_{cool}}\\right)^{a_{cool}} \\left(r^{2} + r_{tran}^{2}\\right) \\left(\\left(\\frac{r}{r_{cool}}\\right)^{a_{cool}} + 1\\right) + a_{cool} \\left(\\frac{r}{r_{cool}}\\right)^{a_{cool}} \\left(r^{2} + r_{tran}^{2}\\right) \\left(t_{0} \\left(\\frac{r}{r_{cool}}\\right)^{a_{cool}} + t_{min}\\right) + c r^{2} \\left(\\left(\\frac{r}{r_{cool}}\\right)^{a_{cool}} + 1\\right) \\left(t_{0} \\left(\\frac{r}{r_{cool}}\\right)^{a_{cool}} + t_{min}\\right)\\right) \\left(r^{5} + r^{3} r_{c}^{2} + r^{2} r_{s}^{3} + r_{c}^{2} r_{s}^{3}\\right)\\right) \\left(5 r^{3} + 3 r r_{c}^{2} + 2 r_{s}^{3}\\right) + \\left(r^{2} + r_{tran}^{2}\\right) \\left(\\left(\\frac{r}{r_{cool}}\\right)^{a_{cool}} + 1\\right) \\left(r^{5} + r^{3} r_{c}^{2} + r^{2} r_{s}^{3} + r_{c}^{2} r_{s}^{3}\\right) \\left(a_{cool} t_{0} \\left(\\frac{r}{r_{cool}}\\right)^{a_{cool}} \\left(r^{2} + r_{tran}^{2}\\right) \\left(\\left(\\frac{r}{r_{cool}}\\right)^{a_{cool}} + 1\\right) \\left(\\alpha r^{3} r_{c}^{2} + \\alpha r_{c}^{2} r_{s}^{3} + 6 \\beta r^{5} + 6 \\beta r^{2} r_{s}^{3} + \\epsilon r^{5} + \\epsilon r^{3} r_{c}^{2}\\right) + a_{cool} \\left(\\frac{r}{r_{cool}}\\right)^{a_{cool}} \\left(r^{2} + r_{tran}^{2}\\right) \\left(t_{0} \\left(\\frac{r}{r_{cool}}\\right)^{a_{cool}} + t_{min}\\right) \\left(\\alpha r^{3} r_{c}^{2} + \\alpha r_{c}^{2} r_{s}^{3} + 6 \\beta r^{5} + 6 \\beta r^{2} r_{s}^{3} + \\epsilon r^{5} + \\epsilon r^{3} r_{c}^{2}\\right) + r^{2} \\left(\\left(r^{2} + r_{tran}^{2}\\right) \\left(\\left(\\frac{r}{r_{cool}}\\right)^{a_{cool}} + 1\\right) \\left(t_{0} \\left(\\frac{r}{r_{cool}}\\right)^{a_{cool}} + t_{min}\\right) \\left(3 \\alpha r r_{c}^{2} + 30 \\beta r^{3} + 12 \\beta r_{s}^{3} + 5 \\epsilon r^{3} + 3 \\epsilon r r_{c}^{2}\\right) + 2 \\left(\\left(\\frac{r}{r_{cool}}\\right)^{a_{cool}} + 1\\right) \\left(t_{0} \\left(\\frac{r}{r_{cool}}\\right)^{a_{cool}} + t_{min}\\right) \\left(\\alpha r^{3} r_{c}^{2} + \\alpha r_{c}^{2} r_{s}^{3} + 6 \\beta r^{5} + 6 \\beta r^{2} r_{s}^{3} + \\epsilon r^{5} + \\epsilon r^{3} r_{c}^{2}\\right) + 2 \\left(5 r^{3} + 3 r r_{c}^{2} + 2 r_{s}^{3}\\right) \\left(- a_{cool} t_{0} \\left(\\frac{r}{r_{cool}}\\right)^{a_{cool}} \\left(r^{2} + r_{tran}^{2}\\right) \\left(\\left(\\frac{r}{r_{cool}}\\right)^{a_{cool}} + 1\\right) + a_{cool} \\left(\\frac{r}{r_{cool}}\\right)^{a_{cool}} \\left(r^{2} + r_{tran}^{2}\\right) \\left(t_{0} \\left(\\frac{r}{r_{cool}}\\right)^{a_{cool}} + t_{min}\\right) + c r^{2} \\left(\\left(\\frac{r}{r_{cool}}\\right)^{a_{cool}} + 1\\right) \\left(t_{0} \\left(\\frac{r}{r_{cool}}\\right)^{a_{cool}} + t_{min}\\right)\\right)\\right) + \\left(r^{2} + r_{tran}^{2}\\right) \\left(\\left(\\frac{r}{r_{cool}}\\right)^{a_{cool}} + 1\\right) \\left(t_{0} \\left(\\frac{r}{r_{cool}}\\right)^{a_{cool}} + t_{min}\\right) \\left(\\alpha r^{3} r_{c}^{2} + \\alpha r_{c}^{2} r_{s}^{3} + 6 \\beta r^{5} + 6 \\beta r^{2} r_{s}^{3} + \\epsilon r^{5} + \\epsilon r^{3} r_{c}^{2}\\right) + 2 \\left(- a_{cool} t_{0} \\left(\\frac{r}{r_{cool}}\\right)^{a_{cool}} \\left(r^{2} + r_{tran}^{2}\\right) \\left(\\left(\\frac{r}{r_{cool}}\\right)^{a_{cool}} + 1\\right) + a_{cool} \\left(\\frac{r}{r_{cool}}\\right)^{a_{cool}} \\left(r^{2} + r_{tran}^{2}\\right) \\left(t_{0} \\left(\\frac{r}{r_{cool}}\\right)^{a_{cool}} + t_{min}\\right) + c r^{2} \\left(\\left(\\frac{r}{r_{cool}}\\right)^{a_{cool}} + 1\\right) \\left(t_{0} \\left(\\frac{r}{r_{cool}}\\right)^{a_{cool}} + t_{min}\\right)\\right) \\left(r^{5} + r^{3} r_{c}^{2} + r^{2} r_{s}^{3} + r_{c}^{2} r_{s}^{3}\\right) + 2 \\left(- a_{cool}^{2} t_{0} \\left(\\frac{r}{r_{cool}}\\right)^{a_{cool}} \\left(r^{2} + r_{tran}^{2}\\right) \\left(\\left(\\frac{r}{r_{cool}}\\right)^{a_{cool}} + 1\\right) + a_{cool}^{2} \\left(\\frac{r}{r_{cool}}\\right)^{a_{cool}} \\left(r^{2} + r_{tran}^{2}\\right) \\left(t_{0} \\left(\\frac{r}{r_{cool}}\\right)^{a_{cool}} + t_{min}\\right) + r^{2} \\left(a_{cool} c t_{0} \\left(\\frac{r}{r_{cool}}\\right)^{a_{cool}} \\left(\\left(\\frac{r}{r_{cool}}\\right)^{a_{cool}} + 1\\right) + a_{cool} c \\left(\\frac{r}{r_{cool}}\\right)^{a_{cool}} \\left(t_{0} \\left(\\frac{r}{r_{cool}}\\right)^{a_{cool}} + t_{min}\\right) - 2 a_{cool} t_{0} \\left(\\frac{r}{r_{cool}}\\right)^{a_{cool}} \\left(\\left(\\frac{r}{r_{cool}}\\right)^{a_{cool}} + 1\\right) + 2 a_{cool} \\left(\\frac{r}{r_{cool}}\\right)^{a_{cool}} \\left(t_{0} \\left(\\frac{r}{r_{cool}}\\right)^{a_{cool}} + t_{min}\\right) + 2 c \\left(\\left(\\frac{r}{r_{cool}}\\right)^{a_{cool}} + 1\\right) \\left(t_{0} \\left(\\frac{r}{r_{cool}}\\right)^{a_{cool}} + t_{min}\\right)\\right)\\right) \\left(r^{5} + r^{3} r_{c}^{2} + r^{2} r_{s}^{3} + r_{c}^{2} r_{s}^{3}\\right)\\right)\\right)}{2 G m_{u} \\mu \\left(r^{2} + r_{tran}^{2}\\right)^{2} \\left(\\left(\\frac{r}{r_{cool}}\\right)^{a_{cool}} + 1\\right)^{3} \\left(r^{5} + r^{3} r_{c}^{2} + r^{2} r_{s}^{3} + r_{c}^{2} r_{s}^{3}\\right)^{2}}$"
      ],
      "text/plain": [
       "k_B*((r**2 + r_tran**2)/r_tran**2)**(-c/2)*(-2*a_cool*(r/r_cool)**a_cool*(r**2 + r_tran**2)*((r**2 + r_tran**2)*((r/r_cool)**a_cool + 1)*(t_0*(r/r_cool)**a_cool + t_min)*(alpha*r**3*r_c**2 + alpha*r_c**2*r_s**3 + 6*beta*r**5 + 6*beta*r**2*r_s**3 + epsilon*r**5 + epsilon*r**3*r_c**2) + 2*(-a_cool*t_0*(r/r_cool)**a_cool*(r**2 + r_tran**2)*((r/r_cool)**a_cool + 1) + a_cool*(r/r_cool)**a_cool*(r**2 + r_tran**2)*(t_0*(r/r_cool)**a_cool + t_min) + c*r**2*((r/r_cool)**a_cool + 1)*(t_0*(r/r_cool)**a_cool + t_min))*(r**5 + r**3*r_c**2 + r**2*r_s**3 + r_c**2*r_s**3))*(r**5 + r**3*r_c**2 + r**2*r_s**3 + r_c**2*r_s**3) - r**2*(c + 2)*((r/r_cool)**a_cool + 1)*((r**2 + r_tran**2)*((r/r_cool)**a_cool + 1)*(t_0*(r/r_cool)**a_cool + t_min)*(alpha*r**3*r_c**2 + alpha*r_c**2*r_s**3 + 6*beta*r**5 + 6*beta*r**2*r_s**3 + epsilon*r**5 + epsilon*r**3*r_c**2) + 2*(-a_cool*t_0*(r/r_cool)**a_cool*(r**2 + r_tran**2)*((r/r_cool)**a_cool + 1) + a_cool*(r/r_cool)**a_cool*(r**2 + r_tran**2)*(t_0*(r/r_cool)**a_cool + t_min) + c*r**2*((r/r_cool)**a_cool + 1)*(t_0*(r/r_cool)**a_cool + t_min))*(r**5 + r**3*r_c**2 + r**2*r_s**3 + r_c**2*r_s**3))*(r**5 + r**3*r_c**2 + r**2*r_s**3 + r_c**2*r_s**3) - r**2*(r**2 + r_tran**2)*((r/r_cool)**a_cool + 1)*((r**2 + r_tran**2)*((r/r_cool)**a_cool + 1)*(t_0*(r/r_cool)**a_cool + t_min)*(alpha*r**3*r_c**2 + alpha*r_c**2*r_s**3 + 6*beta*r**5 + 6*beta*r**2*r_s**3 + epsilon*r**5 + epsilon*r**3*r_c**2) + 2*(-a_cool*t_0*(r/r_cool)**a_cool*(r**2 + r_tran**2)*((r/r_cool)**a_cool + 1) + a_cool*(r/r_cool)**a_cool*(r**2 + r_tran**2)*(t_0*(r/r_cool)**a_cool + t_min) + c*r**2*((r/r_cool)**a_cool + 1)*(t_0*(r/r_cool)**a_cool + t_min))*(r**5 + r**3*r_c**2 + r**2*r_s**3 + r_c**2*r_s**3))*(5*r**3 + 3*r*r_c**2 + 2*r_s**3) + (r**2 + r_tran**2)*((r/r_cool)**a_cool + 1)*(r**5 + r**3*r_c**2 + r**2*r_s**3 + r_c**2*r_s**3)*(a_cool*t_0*(r/r_cool)**a_cool*(r**2 + r_tran**2)*((r/r_cool)**a_cool + 1)*(alpha*r**3*r_c**2 + alpha*r_c**2*r_s**3 + 6*beta*r**5 + 6*beta*r**2*r_s**3 + epsilon*r**5 + epsilon*r**3*r_c**2) + a_cool*(r/r_cool)**a_cool*(r**2 + r_tran**2)*(t_0*(r/r_cool)**a_cool + t_min)*(alpha*r**3*r_c**2 + alpha*r_c**2*r_s**3 + 6*beta*r**5 + 6*beta*r**2*r_s**3 + epsilon*r**5 + epsilon*r**3*r_c**2) + r**2*((r**2 + r_tran**2)*((r/r_cool)**a_cool + 1)*(t_0*(r/r_cool)**a_cool + t_min)*(3*alpha*r*r_c**2 + 30*beta*r**3 + 12*beta*r_s**3 + 5*epsilon*r**3 + 3*epsilon*r*r_c**2) + 2*((r/r_cool)**a_cool + 1)*(t_0*(r/r_cool)**a_cool + t_min)*(alpha*r**3*r_c**2 + alpha*r_c**2*r_s**3 + 6*beta*r**5 + 6*beta*r**2*r_s**3 + epsilon*r**5 + epsilon*r**3*r_c**2) + 2*(5*r**3 + 3*r*r_c**2 + 2*r_s**3)*(-a_cool*t_0*(r/r_cool)**a_cool*(r**2 + r_tran**2)*((r/r_cool)**a_cool + 1) + a_cool*(r/r_cool)**a_cool*(r**2 + r_tran**2)*(t_0*(r/r_cool)**a_cool + t_min) + c*r**2*((r/r_cool)**a_cool + 1)*(t_0*(r/r_cool)**a_cool + t_min))) + (r**2 + r_tran**2)*((r/r_cool)**a_cool + 1)*(t_0*(r/r_cool)**a_cool + t_min)*(alpha*r**3*r_c**2 + alpha*r_c**2*r_s**3 + 6*beta*r**5 + 6*beta*r**2*r_s**3 + epsilon*r**5 + epsilon*r**3*r_c**2) + 2*(-a_cool*t_0*(r/r_cool)**a_cool*(r**2 + r_tran**2)*((r/r_cool)**a_cool + 1) + a_cool*(r/r_cool)**a_cool*(r**2 + r_tran**2)*(t_0*(r/r_cool)**a_cool + t_min) + c*r**2*((r/r_cool)**a_cool + 1)*(t_0*(r/r_cool)**a_cool + t_min))*(r**5 + r**3*r_c**2 + r**2*r_s**3 + r_c**2*r_s**3) + 2*(-a_cool**2*t_0*(r/r_cool)**a_cool*(r**2 + r_tran**2)*((r/r_cool)**a_cool + 1) + a_cool**2*(r/r_cool)**a_cool*(r**2 + r_tran**2)*(t_0*(r/r_cool)**a_cool + t_min) + r**2*(a_cool*c*t_0*(r/r_cool)**a_cool*((r/r_cool)**a_cool + 1) + a_cool*c*(r/r_cool)**a_cool*(t_0*(r/r_cool)**a_cool + t_min) - 2*a_cool*t_0*(r/r_cool)**a_cool*((r/r_cool)**a_cool + 1) + 2*a_cool*(r/r_cool)**a_cool*(t_0*(r/r_cool)**a_cool + t_min) + 2*c*((r/r_cool)**a_cool + 1)*(t_0*(r/r_cool)**a_cool + t_min)))*(r**5 + r**3*r_c**2 + r**2*r_s**3 + r_c**2*r_s**3)))/(2*G*m_u*mu*(r**2 + r_tran**2)**2*((r/r_cool)**a_cool + 1)**3*(r**5 + r**3*r_c**2 + r**2*r_s**3 + r_c**2*r_s**3)**2)"
      ]
     },
     "execution_count": 36,
     "metadata": {},
     "output_type": "execute_result"
    }
   ],
   "source": [
    "simplify(diff(simp_vikh_hymm, r))"
   ]
  }
 ],
 "metadata": {
  "kernelspec": {
   "display_name": "Python 3 (ipykernel)",
   "language": "python",
   "name": "python3"
  },
  "language_info": {
   "codemirror_mode": {
    "name": "ipython",
    "version": 3
   },
   "file_extension": ".py",
   "mimetype": "text/x-python",
   "name": "python",
   "nbconvert_exporter": "python",
   "pygments_lexer": "ipython3",
   "version": "3.8.12"
  }
 },
 "nbformat": 4,
 "nbformat_minor": 5
}